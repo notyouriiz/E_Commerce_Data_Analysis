{
  "cells": [
    {
      "cell_type": "markdown",
      "metadata": {
        "id": "H9wADwK78DCz"
      },
      "source": [
        "# Proyek Analisis Data: [Input Nama Dataset]\n",
        "- **Nama:** Faiz Noor Adhytia\n",
        "- **Email:** m233b4ky1368@gmail.com\n",
        "- **ID Dicoding:** faizadhytia"
      ]
    },
    {
      "cell_type": "markdown",
      "metadata": {
        "id": "eE0raob58DC0"
      },
      "source": [
        "## Menentukan Pertanyaan Bisnis"
      ]
    },
    {
      "cell_type": "markdown",
      "metadata": {
        "id": "GmQeQ5YF8DC0"
      },
      "source": [
        "<ol>\n",
        "    <li>What product is need to be prioritize to getting an advertisement and improvements?</li>\n",
        "    <li>What is the most under sell product, and how to boost the sell?</li>\n",
        "    <li>If we want to launc a new product, what product criteria it needs to have so it can be a best seller in the market or atleast it can support the undersell product to have better sell?</li>\n",
        "</ol>"
      ]
    },
    {
      "cell_type": "markdown",
      "metadata": {
        "id": "H-z4QGlO8DC1"
      },
      "source": [
        "## Import Semua Packages/Library yang Digunakan"
      ]
    },
    {
      "cell_type": "code",
      "execution_count": 59,
      "metadata": {
        "id": "FVYwaObI8DC1"
      },
      "outputs": [],
      "source": [
        "import pandas as pd\n",
        "import numpy as np\n",
        "import seaborn as sns\n",
        "import matplotlib.pyplot as plt\n",
        "import folium"
      ]
    },
    {
      "cell_type": "markdown",
      "metadata": {
        "id": "h_Sh51Xy8DC1"
      },
      "source": [
        "## Data Wrangling"
      ]
    },
    {
      "cell_type": "markdown",
      "metadata": {
        "id": "sXU2GBYu8DC1"
      },
      "source": [
        "### Gathering Data"
      ]
    },
    {
      "cell_type": "code",
      "execution_count": 2,
      "metadata": {
        "id": "zjCBk1BI8DC1"
      },
      "outputs": [],
      "source": [
        "orders = pd.read_csv('E-Commerce Public Dataset/orders_dataset.csv')\n",
        "products = pd.read_csv('E-Commerce Public Dataset/products_dataset.csv')\n",
        "sellers = pd.read_csv('E-Commerce Public Dataset/sellers_dataset.csv')\n",
        "category_translation = pd.read_csv('E-Commerce Public Dataset/product_category_name_translation.csv')\n",
        "order_items = pd.read_csv('E-Commerce Public Dataset/order_items_dataset.csv')\n",
        "customer_reviews = pd.read_csv('E-Commerce Public Dataset/order_reviews_dataset.csv') "
      ]
    },
    {
      "cell_type": "code",
      "execution_count": 3,
      "metadata": {},
      "outputs": [
        {
          "data": {
            "text/html": [
              "<style type=\"text/css\">\n",
              "</style>\n",
              "<table id=\"T_032a8\">\n",
              "  <thead>\n",
              "    <tr>\n",
              "      <th class=\"blank level0\" >&nbsp;</th>\n",
              "      <th id=\"T_032a8_level0_col0\" class=\"col_heading level0 col0\" >order_id</th>\n",
              "      <th id=\"T_032a8_level0_col1\" class=\"col_heading level0 col1\" >customer_id</th>\n",
              "      <th id=\"T_032a8_level0_col2\" class=\"col_heading level0 col2\" >order_status</th>\n",
              "      <th id=\"T_032a8_level0_col3\" class=\"col_heading level0 col3\" >order_purchase_timestamp</th>\n",
              "      <th id=\"T_032a8_level0_col4\" class=\"col_heading level0 col4\" >order_approved_at</th>\n",
              "      <th id=\"T_032a8_level0_col5\" class=\"col_heading level0 col5\" >order_delivered_carrier_date</th>\n",
              "      <th id=\"T_032a8_level0_col6\" class=\"col_heading level0 col6\" >order_delivered_customer_date</th>\n",
              "      <th id=\"T_032a8_level0_col7\" class=\"col_heading level0 col7\" >order_estimated_delivery_date</th>\n",
              "    </tr>\n",
              "  </thead>\n",
              "  <tbody>\n",
              "    <tr>\n",
              "      <th id=\"T_032a8_level0_row0\" class=\"row_heading level0 row0\" >0</th>\n",
              "      <td id=\"T_032a8_row0_col0\" class=\"data row0 col0\" >e481f51cbdc54678b7cc49136f2d6af7</td>\n",
              "      <td id=\"T_032a8_row0_col1\" class=\"data row0 col1\" >9ef432eb6251297304e76186b10a928d</td>\n",
              "      <td id=\"T_032a8_row0_col2\" class=\"data row0 col2\" >delivered</td>\n",
              "      <td id=\"T_032a8_row0_col3\" class=\"data row0 col3\" >2017-10-02 10:56:33</td>\n",
              "      <td id=\"T_032a8_row0_col4\" class=\"data row0 col4\" >2017-10-02 11:07:15</td>\n",
              "      <td id=\"T_032a8_row0_col5\" class=\"data row0 col5\" >2017-10-04 19:55:00</td>\n",
              "      <td id=\"T_032a8_row0_col6\" class=\"data row0 col6\" >2017-10-10 21:25:13</td>\n",
              "      <td id=\"T_032a8_row0_col7\" class=\"data row0 col7\" >2017-10-18 00:00:00</td>\n",
              "    </tr>\n",
              "    <tr>\n",
              "      <th id=\"T_032a8_level0_row1\" class=\"row_heading level0 row1\" >1</th>\n",
              "      <td id=\"T_032a8_row1_col0\" class=\"data row1 col0\" >53cdb2fc8bc7dce0b6741e2150273451</td>\n",
              "      <td id=\"T_032a8_row1_col1\" class=\"data row1 col1\" >b0830fb4747a6c6d20dea0b8c802d7ef</td>\n",
              "      <td id=\"T_032a8_row1_col2\" class=\"data row1 col2\" >delivered</td>\n",
              "      <td id=\"T_032a8_row1_col3\" class=\"data row1 col3\" >2018-07-24 20:41:37</td>\n",
              "      <td id=\"T_032a8_row1_col4\" class=\"data row1 col4\" >2018-07-26 03:24:27</td>\n",
              "      <td id=\"T_032a8_row1_col5\" class=\"data row1 col5\" >2018-07-26 14:31:00</td>\n",
              "      <td id=\"T_032a8_row1_col6\" class=\"data row1 col6\" >2018-08-07 15:27:45</td>\n",
              "      <td id=\"T_032a8_row1_col7\" class=\"data row1 col7\" >2018-08-13 00:00:00</td>\n",
              "    </tr>\n",
              "    <tr>\n",
              "      <th id=\"T_032a8_level0_row2\" class=\"row_heading level0 row2\" >2</th>\n",
              "      <td id=\"T_032a8_row2_col0\" class=\"data row2 col0\" >47770eb9100c2d0c44946d9cf07ec65d</td>\n",
              "      <td id=\"T_032a8_row2_col1\" class=\"data row2 col1\" >41ce2a54c0b03bf3443c3d931a367089</td>\n",
              "      <td id=\"T_032a8_row2_col2\" class=\"data row2 col2\" >delivered</td>\n",
              "      <td id=\"T_032a8_row2_col3\" class=\"data row2 col3\" >2018-08-08 08:38:49</td>\n",
              "      <td id=\"T_032a8_row2_col4\" class=\"data row2 col4\" >2018-08-08 08:55:23</td>\n",
              "      <td id=\"T_032a8_row2_col5\" class=\"data row2 col5\" >2018-08-08 13:50:00</td>\n",
              "      <td id=\"T_032a8_row2_col6\" class=\"data row2 col6\" >2018-08-17 18:06:29</td>\n",
              "      <td id=\"T_032a8_row2_col7\" class=\"data row2 col7\" >2018-09-04 00:00:00</td>\n",
              "    </tr>\n",
              "    <tr>\n",
              "      <th id=\"T_032a8_level0_row3\" class=\"row_heading level0 row3\" >3</th>\n",
              "      <td id=\"T_032a8_row3_col0\" class=\"data row3 col0\" >949d5b44dbf5de918fe9c16f97b45f8a</td>\n",
              "      <td id=\"T_032a8_row3_col1\" class=\"data row3 col1\" >f88197465ea7920adcdbec7375364d82</td>\n",
              "      <td id=\"T_032a8_row3_col2\" class=\"data row3 col2\" >delivered</td>\n",
              "      <td id=\"T_032a8_row3_col3\" class=\"data row3 col3\" >2017-11-18 19:28:06</td>\n",
              "      <td id=\"T_032a8_row3_col4\" class=\"data row3 col4\" >2017-11-18 19:45:59</td>\n",
              "      <td id=\"T_032a8_row3_col5\" class=\"data row3 col5\" >2017-11-22 13:39:59</td>\n",
              "      <td id=\"T_032a8_row3_col6\" class=\"data row3 col6\" >2017-12-02 00:28:42</td>\n",
              "      <td id=\"T_032a8_row3_col7\" class=\"data row3 col7\" >2017-12-15 00:00:00</td>\n",
              "    </tr>\n",
              "    <tr>\n",
              "      <th id=\"T_032a8_level0_row4\" class=\"row_heading level0 row4\" >4</th>\n",
              "      <td id=\"T_032a8_row4_col0\" class=\"data row4 col0\" >ad21c59c0840e6cb83a9ceb5573f8159</td>\n",
              "      <td id=\"T_032a8_row4_col1\" class=\"data row4 col1\" >8ab97904e6daea8866dbdbc4fb7aad2c</td>\n",
              "      <td id=\"T_032a8_row4_col2\" class=\"data row4 col2\" >delivered</td>\n",
              "      <td id=\"T_032a8_row4_col3\" class=\"data row4 col3\" >2018-02-13 21:18:39</td>\n",
              "      <td id=\"T_032a8_row4_col4\" class=\"data row4 col4\" >2018-02-13 22:20:29</td>\n",
              "      <td id=\"T_032a8_row4_col5\" class=\"data row4 col5\" >2018-02-14 19:46:34</td>\n",
              "      <td id=\"T_032a8_row4_col6\" class=\"data row4 col6\" >2018-02-16 18:17:02</td>\n",
              "      <td id=\"T_032a8_row4_col7\" class=\"data row4 col7\" >2018-02-26 00:00:00</td>\n",
              "    </tr>\n",
              "    <tr>\n",
              "      <th id=\"T_032a8_level0_row5\" class=\"row_heading level0 row5\" >5</th>\n",
              "      <td id=\"T_032a8_row5_col0\" class=\"data row5 col0\" >a4591c265e18cb1dcee52889e2d8acc3</td>\n",
              "      <td id=\"T_032a8_row5_col1\" class=\"data row5 col1\" >503740e9ca751ccdda7ba28e9ab8f608</td>\n",
              "      <td id=\"T_032a8_row5_col2\" class=\"data row5 col2\" >delivered</td>\n",
              "      <td id=\"T_032a8_row5_col3\" class=\"data row5 col3\" >2017-07-09 21:57:05</td>\n",
              "      <td id=\"T_032a8_row5_col4\" class=\"data row5 col4\" >2017-07-09 22:10:13</td>\n",
              "      <td id=\"T_032a8_row5_col5\" class=\"data row5 col5\" >2017-07-11 14:58:04</td>\n",
              "      <td id=\"T_032a8_row5_col6\" class=\"data row5 col6\" >2017-07-26 10:57:55</td>\n",
              "      <td id=\"T_032a8_row5_col7\" class=\"data row5 col7\" >2017-08-01 00:00:00</td>\n",
              "    </tr>\n",
              "    <tr>\n",
              "      <th id=\"T_032a8_level0_row6\" class=\"row_heading level0 row6\" >6</th>\n",
              "      <td id=\"T_032a8_row6_col0\" class=\"data row6 col0\" >136cce7faa42fdb2cefd53fdc79a6098</td>\n",
              "      <td id=\"T_032a8_row6_col1\" class=\"data row6 col1\" >ed0271e0b7da060a393796590e7b737a</td>\n",
              "      <td id=\"T_032a8_row6_col2\" class=\"data row6 col2\" >invoiced</td>\n",
              "      <td id=\"T_032a8_row6_col3\" class=\"data row6 col3\" >2017-04-11 12:22:08</td>\n",
              "      <td id=\"T_032a8_row6_col4\" class=\"data row6 col4\" >2017-04-13 13:25:17</td>\n",
              "      <td id=\"T_032a8_row6_col5\" class=\"data row6 col5\" >nan</td>\n",
              "      <td id=\"T_032a8_row6_col6\" class=\"data row6 col6\" >nan</td>\n",
              "      <td id=\"T_032a8_row6_col7\" class=\"data row6 col7\" >2017-05-09 00:00:00</td>\n",
              "    </tr>\n",
              "    <tr>\n",
              "      <th id=\"T_032a8_level0_row7\" class=\"row_heading level0 row7\" >7</th>\n",
              "      <td id=\"T_032a8_row7_col0\" class=\"data row7 col0\" >6514b8ad8028c9f2cc2374ded245783f</td>\n",
              "      <td id=\"T_032a8_row7_col1\" class=\"data row7 col1\" >9bdf08b4b3b52b5526ff42d37d47f222</td>\n",
              "      <td id=\"T_032a8_row7_col2\" class=\"data row7 col2\" >delivered</td>\n",
              "      <td id=\"T_032a8_row7_col3\" class=\"data row7 col3\" >2017-05-16 13:10:30</td>\n",
              "      <td id=\"T_032a8_row7_col4\" class=\"data row7 col4\" >2017-05-16 13:22:11</td>\n",
              "      <td id=\"T_032a8_row7_col5\" class=\"data row7 col5\" >2017-05-22 10:07:46</td>\n",
              "      <td id=\"T_032a8_row7_col6\" class=\"data row7 col6\" >2017-05-26 12:55:51</td>\n",
              "      <td id=\"T_032a8_row7_col7\" class=\"data row7 col7\" >2017-06-07 00:00:00</td>\n",
              "    </tr>\n",
              "    <tr>\n",
              "      <th id=\"T_032a8_level0_row8\" class=\"row_heading level0 row8\" >8</th>\n",
              "      <td id=\"T_032a8_row8_col0\" class=\"data row8 col0\" >76c6e866289321a7c93b82b54852dc33</td>\n",
              "      <td id=\"T_032a8_row8_col1\" class=\"data row8 col1\" >f54a9f0e6b351c431402b8461ea51999</td>\n",
              "      <td id=\"T_032a8_row8_col2\" class=\"data row8 col2\" >delivered</td>\n",
              "      <td id=\"T_032a8_row8_col3\" class=\"data row8 col3\" >2017-01-23 18:29:09</td>\n",
              "      <td id=\"T_032a8_row8_col4\" class=\"data row8 col4\" >2017-01-25 02:50:47</td>\n",
              "      <td id=\"T_032a8_row8_col5\" class=\"data row8 col5\" >2017-01-26 14:16:31</td>\n",
              "      <td id=\"T_032a8_row8_col6\" class=\"data row8 col6\" >2017-02-02 14:08:10</td>\n",
              "      <td id=\"T_032a8_row8_col7\" class=\"data row8 col7\" >2017-03-06 00:00:00</td>\n",
              "    </tr>\n",
              "    <tr>\n",
              "      <th id=\"T_032a8_level0_row9\" class=\"row_heading level0 row9\" >9</th>\n",
              "      <td id=\"T_032a8_row9_col0\" class=\"data row9 col0\" >e69bfb5eb88e0ed6a785585b27e16dbf</td>\n",
              "      <td id=\"T_032a8_row9_col1\" class=\"data row9 col1\" >31ad1d1b63eb9962463f764d4e6e0c9d</td>\n",
              "      <td id=\"T_032a8_row9_col2\" class=\"data row9 col2\" >delivered</td>\n",
              "      <td id=\"T_032a8_row9_col3\" class=\"data row9 col3\" >2017-07-29 11:55:02</td>\n",
              "      <td id=\"T_032a8_row9_col4\" class=\"data row9 col4\" >2017-07-29 12:05:32</td>\n",
              "      <td id=\"T_032a8_row9_col5\" class=\"data row9 col5\" >2017-08-10 19:45:24</td>\n",
              "      <td id=\"T_032a8_row9_col6\" class=\"data row9 col6\" >2017-08-16 17:14:30</td>\n",
              "      <td id=\"T_032a8_row9_col7\" class=\"data row9 col7\" >2017-08-23 00:00:00</td>\n",
              "    </tr>\n",
              "  </tbody>\n",
              "</table>\n"
            ],
            "text/plain": [
              "<pandas.io.formats.style.Styler at 0x116bded2ba0>"
            ]
          },
          "execution_count": 3,
          "metadata": {},
          "output_type": "execute_result"
        }
      ],
      "source": [
        "orders.head(10).style.background_gradient(cmap = \"mako\")"
      ]
    },
    {
      "cell_type": "code",
      "execution_count": 4,
      "metadata": {},
      "outputs": [
        {
          "data": {
            "text/html": [
              "<style type=\"text/css\">\n",
              "#T_0b23b_row0_col2 {\n",
              "  background-color: #3a5b9b;\n",
              "  color: #f1f1f1;\n",
              "}\n",
              "#T_0b23b_row0_col3 {\n",
              "  background-color: #28192e;\n",
              "  color: #f1f1f1;\n",
              "}\n",
              "#T_0b23b_row0_col4, #T_0b23b_row0_col5, #T_0b23b_row0_col6, #T_0b23b_row1_col4, #T_0b23b_row2_col4, #T_0b23b_row2_col5, #T_0b23b_row3_col2, #T_0b23b_row3_col4, #T_0b23b_row3_col7, #T_0b23b_row5_col4, #T_0b23b_row5_col5, #T_0b23b_row5_col8, #T_0b23b_row8_col3, #T_0b23b_row8_col4, #T_0b23b_row9_col4 {\n",
              "  background-color: #0b0405;\n",
              "  color: #f1f1f1;\n",
              "}\n",
              "#T_0b23b_row0_col7, #T_0b23b_row9_col7 {\n",
              "  background-color: #413f80;\n",
              "  color: #f1f1f1;\n",
              "}\n",
              "#T_0b23b_row0_col8 {\n",
              "  background-color: #231526;\n",
              "  color: #f1f1f1;\n",
              "}\n",
              "#T_0b23b_row1_col2 {\n",
              "  background-color: #357ea4;\n",
              "  color: #f1f1f1;\n",
              "}\n",
              "#T_0b23b_row1_col3 {\n",
              "  background-color: #26172b;\n",
              "  color: #f1f1f1;\n",
              "}\n",
              "#T_0b23b_row1_col5 {\n",
              "  background-color: #170c15;\n",
              "  color: #f1f1f1;\n",
              "}\n",
              "#T_0b23b_row1_col6 {\n",
              "  background-color: #3f366f;\n",
              "  color: #f1f1f1;\n",
              "}\n",
              "#T_0b23b_row1_col7 {\n",
              "  background-color: #3eb4ad;\n",
              "  color: #f1f1f1;\n",
              "}\n",
              "#T_0b23b_row1_col8, #T_0b23b_row9_col2 {\n",
              "  background-color: #403974;\n",
              "  color: #f1f1f1;\n",
              "}\n",
              "#T_0b23b_row2_col2 {\n",
              "  background-color: #3490a8;\n",
              "  color: #f1f1f1;\n",
              "}\n",
              "#T_0b23b_row2_col3 {\n",
              "  background-color: #201322;\n",
              "  color: #f1f1f1;\n",
              "}\n",
              "#T_0b23b_row2_col6 {\n",
              "  background-color: #150a12;\n",
              "  color: #f1f1f1;\n",
              "}\n",
              "#T_0b23b_row2_col7 {\n",
              "  background-color: #3e356b;\n",
              "  color: #f1f1f1;\n",
              "}\n",
              "#T_0b23b_row2_col8 {\n",
              "  background-color: #2a1b33;\n",
              "  color: #f1f1f1;\n",
              "}\n",
              "#T_0b23b_row3_col3 {\n",
              "  background-color: #221425;\n",
              "  color: #f1f1f1;\n",
              "}\n",
              "#T_0b23b_row3_col5, #T_0b23b_row8_col5 {\n",
              "  background-color: #0f0609;\n",
              "  color: #f1f1f1;\n",
              "}\n",
              "#T_0b23b_row3_col6 {\n",
              "  background-color: #36274d;\n",
              "  color: #f1f1f1;\n",
              "}\n",
              "#T_0b23b_row3_col8 {\n",
              "  background-color: #366da0;\n",
              "  color: #f1f1f1;\n",
              "}\n",
              "#T_0b23b_row4_col2 {\n",
              "  background-color: #414082;\n",
              "  color: #f1f1f1;\n",
              "}\n",
              "#T_0b23b_row4_col3 {\n",
              "  background-color: #3b2d5b;\n",
              "  color: #f1f1f1;\n",
              "}\n",
              "#T_0b23b_row4_col4, #T_0b23b_row5_col2, #T_0b23b_row6_col3, #T_0b23b_row6_col4, #T_0b23b_row6_col5, #T_0b23b_row6_col6, #T_0b23b_row6_col7, #T_0b23b_row6_col8 {\n",
              "  background-color: #def5e5;\n",
              "  color: #000000;\n",
              "}\n",
              "#T_0b23b_row4_col5, #T_0b23b_row9_col5 {\n",
              "  background-color: #12080d;\n",
              "  color: #f1f1f1;\n",
              "}\n",
              "#T_0b23b_row4_col6 {\n",
              "  background-color: #1e111f;\n",
              "  color: #f1f1f1;\n",
              "}\n",
              "#T_0b23b_row4_col7 {\n",
              "  background-color: #37a5ac;\n",
              "  color: #f1f1f1;\n",
              "}\n",
              "#T_0b23b_row4_col8 {\n",
              "  background-color: #1b0f1a;\n",
              "  color: #f1f1f1;\n",
              "}\n",
              "#T_0b23b_row5_col3 {\n",
              "  background-color: #3482a4;\n",
              "  color: #f1f1f1;\n",
              "}\n",
              "#T_0b23b_row5_col6 {\n",
              "  background-color: #385f9c;\n",
              "  color: #f1f1f1;\n",
              "}\n",
              "#T_0b23b_row5_col7 {\n",
              "  background-color: #180d16;\n",
              "  color: #f1f1f1;\n",
              "}\n",
              "#T_0b23b_row6_col2, #T_0b23b_row7_col2, #T_0b23b_row7_col8 {\n",
              "  background-color: #99ddb6;\n",
              "  color: #000000;\n",
              "}\n",
              "#T_0b23b_row7_col3, #T_0b23b_row9_col6 {\n",
              "  background-color: #10060a;\n",
              "  color: #f1f1f1;\n",
              "}\n",
              "#T_0b23b_row7_col4 {\n",
              "  background-color: #40498e;\n",
              "  color: #f1f1f1;\n",
              "}\n",
              "#T_0b23b_row7_col5 {\n",
              "  background-color: #160b13;\n",
              "  color: #f1f1f1;\n",
              "}\n",
              "#T_0b23b_row7_col6 {\n",
              "  background-color: #366a9f;\n",
              "  color: #f1f1f1;\n",
              "}\n",
              "#T_0b23b_row7_col7 {\n",
              "  background-color: #382a54;\n",
              "  color: #f1f1f1;\n",
              "}\n",
              "#T_0b23b_row8_col2 {\n",
              "  background-color: #aee3c0;\n",
              "  color: #000000;\n",
              "}\n",
              "#T_0b23b_row8_col6 {\n",
              "  background-color: #392b56;\n",
              "  color: #f1f1f1;\n",
              "}\n",
              "#T_0b23b_row8_col7 {\n",
              "  background-color: #366ca0;\n",
              "  color: #f1f1f1;\n",
              "}\n",
              "#T_0b23b_row8_col8 {\n",
              "  background-color: #35264c;\n",
              "  color: #f1f1f1;\n",
              "}\n",
              "#T_0b23b_row9_col3 {\n",
              "  background-color: #a6e1bc;\n",
              "  color: #000000;\n",
              "}\n",
              "#T_0b23b_row9_col8 {\n",
              "  background-color: #13090f;\n",
              "  color: #f1f1f1;\n",
              "}\n",
              "</style>\n",
              "<table id=\"T_0b23b\">\n",
              "  <thead>\n",
              "    <tr>\n",
              "      <th class=\"blank level0\" >&nbsp;</th>\n",
              "      <th id=\"T_0b23b_level0_col0\" class=\"col_heading level0 col0\" >product_id</th>\n",
              "      <th id=\"T_0b23b_level0_col1\" class=\"col_heading level0 col1\" >product_category_name</th>\n",
              "      <th id=\"T_0b23b_level0_col2\" class=\"col_heading level0 col2\" >product_name_lenght</th>\n",
              "      <th id=\"T_0b23b_level0_col3\" class=\"col_heading level0 col3\" >product_description_lenght</th>\n",
              "      <th id=\"T_0b23b_level0_col4\" class=\"col_heading level0 col4\" >product_photos_qty</th>\n",
              "      <th id=\"T_0b23b_level0_col5\" class=\"col_heading level0 col5\" >product_weight_g</th>\n",
              "      <th id=\"T_0b23b_level0_col6\" class=\"col_heading level0 col6\" >product_length_cm</th>\n",
              "      <th id=\"T_0b23b_level0_col7\" class=\"col_heading level0 col7\" >product_height_cm</th>\n",
              "      <th id=\"T_0b23b_level0_col8\" class=\"col_heading level0 col8\" >product_width_cm</th>\n",
              "    </tr>\n",
              "  </thead>\n",
              "  <tbody>\n",
              "    <tr>\n",
              "      <th id=\"T_0b23b_level0_row0\" class=\"row_heading level0 row0\" >0</th>\n",
              "      <td id=\"T_0b23b_row0_col0\" class=\"data row0 col0\" >1e9e8ef04dbcff4541ed26657ea517e5</td>\n",
              "      <td id=\"T_0b23b_row0_col1\" class=\"data row0 col1\" >perfumaria</td>\n",
              "      <td id=\"T_0b23b_row0_col2\" class=\"data row0 col2\" >40.000000</td>\n",
              "      <td id=\"T_0b23b_row0_col3\" class=\"data row0 col3\" >287.000000</td>\n",
              "      <td id=\"T_0b23b_row0_col4\" class=\"data row0 col4\" >1.000000</td>\n",
              "      <td id=\"T_0b23b_row0_col5\" class=\"data row0 col5\" >225.000000</td>\n",
              "      <td id=\"T_0b23b_row0_col6\" class=\"data row0 col6\" >16.000000</td>\n",
              "      <td id=\"T_0b23b_row0_col7\" class=\"data row0 col7\" >10.000000</td>\n",
              "      <td id=\"T_0b23b_row0_col8\" class=\"data row0 col8\" >14.000000</td>\n",
              "    </tr>\n",
              "    <tr>\n",
              "      <th id=\"T_0b23b_level0_row1\" class=\"row_heading level0 row1\" >1</th>\n",
              "      <td id=\"T_0b23b_row1_col0\" class=\"data row1 col0\" >3aa071139cb16b67ca9e5dea641aaa2f</td>\n",
              "      <td id=\"T_0b23b_row1_col1\" class=\"data row1 col1\" >artes</td>\n",
              "      <td id=\"T_0b23b_row1_col2\" class=\"data row1 col2\" >44.000000</td>\n",
              "      <td id=\"T_0b23b_row1_col3\" class=\"data row1 col3\" >276.000000</td>\n",
              "      <td id=\"T_0b23b_row1_col4\" class=\"data row1 col4\" >1.000000</td>\n",
              "      <td id=\"T_0b23b_row1_col5\" class=\"data row1 col5\" >1000.000000</td>\n",
              "      <td id=\"T_0b23b_row1_col6\" class=\"data row1 col6\" >30.000000</td>\n",
              "      <td id=\"T_0b23b_row1_col7\" class=\"data row1 col7\" >18.000000</td>\n",
              "      <td id=\"T_0b23b_row1_col8\" class=\"data row1 col8\" >20.000000</td>\n",
              "    </tr>\n",
              "    <tr>\n",
              "      <th id=\"T_0b23b_level0_row2\" class=\"row_heading level0 row2\" >2</th>\n",
              "      <td id=\"T_0b23b_row2_col0\" class=\"data row2 col0\" >96bd76ec8810374ed1b65e291975717f</td>\n",
              "      <td id=\"T_0b23b_row2_col1\" class=\"data row2 col1\" >esporte_lazer</td>\n",
              "      <td id=\"T_0b23b_row2_col2\" class=\"data row2 col2\" >46.000000</td>\n",
              "      <td id=\"T_0b23b_row2_col3\" class=\"data row2 col3\" >250.000000</td>\n",
              "      <td id=\"T_0b23b_row2_col4\" class=\"data row2 col4\" >1.000000</td>\n",
              "      <td id=\"T_0b23b_row2_col5\" class=\"data row2 col5\" >154.000000</td>\n",
              "      <td id=\"T_0b23b_row2_col6\" class=\"data row2 col6\" >18.000000</td>\n",
              "      <td id=\"T_0b23b_row2_col7\" class=\"data row2 col7\" >9.000000</td>\n",
              "      <td id=\"T_0b23b_row2_col8\" class=\"data row2 col8\" >15.000000</td>\n",
              "    </tr>\n",
              "    <tr>\n",
              "      <th id=\"T_0b23b_level0_row3\" class=\"row_heading level0 row3\" >3</th>\n",
              "      <td id=\"T_0b23b_row3_col0\" class=\"data row3 col0\" >cef67bcfe19066a932b7673e239eb23d</td>\n",
              "      <td id=\"T_0b23b_row3_col1\" class=\"data row3 col1\" >bebes</td>\n",
              "      <td id=\"T_0b23b_row3_col2\" class=\"data row3 col2\" >27.000000</td>\n",
              "      <td id=\"T_0b23b_row3_col3\" class=\"data row3 col3\" >261.000000</td>\n",
              "      <td id=\"T_0b23b_row3_col4\" class=\"data row3 col4\" >1.000000</td>\n",
              "      <td id=\"T_0b23b_row3_col5\" class=\"data row3 col5\" >371.000000</td>\n",
              "      <td id=\"T_0b23b_row3_col6\" class=\"data row3 col6\" >26.000000</td>\n",
              "      <td id=\"T_0b23b_row3_col7\" class=\"data row3 col7\" >4.000000</td>\n",
              "      <td id=\"T_0b23b_row3_col8\" class=\"data row3 col8\" >26.000000</td>\n",
              "    </tr>\n",
              "    <tr>\n",
              "      <th id=\"T_0b23b_level0_row4\" class=\"row_heading level0 row4\" >4</th>\n",
              "      <td id=\"T_0b23b_row4_col0\" class=\"data row4 col0\" >9dc1a7de274444849c219cff195d0b71</td>\n",
              "      <td id=\"T_0b23b_row4_col1\" class=\"data row4 col1\" >utilidades_domesticas</td>\n",
              "      <td id=\"T_0b23b_row4_col2\" class=\"data row4 col2\" >37.000000</td>\n",
              "      <td id=\"T_0b23b_row4_col3\" class=\"data row4 col3\" >402.000000</td>\n",
              "      <td id=\"T_0b23b_row4_col4\" class=\"data row4 col4\" >4.000000</td>\n",
              "      <td id=\"T_0b23b_row4_col5\" class=\"data row4 col5\" >625.000000</td>\n",
              "      <td id=\"T_0b23b_row4_col6\" class=\"data row4 col6\" >20.000000</td>\n",
              "      <td id=\"T_0b23b_row4_col7\" class=\"data row4 col7\" >17.000000</td>\n",
              "      <td id=\"T_0b23b_row4_col8\" class=\"data row4 col8\" >13.000000</td>\n",
              "    </tr>\n",
              "    <tr>\n",
              "      <th id=\"T_0b23b_level0_row5\" class=\"row_heading level0 row5\" >5</th>\n",
              "      <td id=\"T_0b23b_row5_col0\" class=\"data row5 col0\" >41d3672d4792049fa1779bb35283ed13</td>\n",
              "      <td id=\"T_0b23b_row5_col1\" class=\"data row5 col1\" >instrumentos_musicais</td>\n",
              "      <td id=\"T_0b23b_row5_col2\" class=\"data row5 col2\" >60.000000</td>\n",
              "      <td id=\"T_0b23b_row5_col3\" class=\"data row5 col3\" >745.000000</td>\n",
              "      <td id=\"T_0b23b_row5_col4\" class=\"data row5 col4\" >1.000000</td>\n",
              "      <td id=\"T_0b23b_row5_col5\" class=\"data row5 col5\" >200.000000</td>\n",
              "      <td id=\"T_0b23b_row5_col6\" class=\"data row5 col6\" >38.000000</td>\n",
              "      <td id=\"T_0b23b_row5_col7\" class=\"data row5 col7\" >5.000000</td>\n",
              "      <td id=\"T_0b23b_row5_col8\" class=\"data row5 col8\" >11.000000</td>\n",
              "    </tr>\n",
              "    <tr>\n",
              "      <th id=\"T_0b23b_level0_row6\" class=\"row_heading level0 row6\" >6</th>\n",
              "      <td id=\"T_0b23b_row6_col0\" class=\"data row6 col0\" >732bd381ad09e530fe0a5f457d81becb</td>\n",
              "      <td id=\"T_0b23b_row6_col1\" class=\"data row6 col1\" >cool_stuff</td>\n",
              "      <td id=\"T_0b23b_row6_col2\" class=\"data row6 col2\" >56.000000</td>\n",
              "      <td id=\"T_0b23b_row6_col3\" class=\"data row6 col3\" >1272.000000</td>\n",
              "      <td id=\"T_0b23b_row6_col4\" class=\"data row6 col4\" >4.000000</td>\n",
              "      <td id=\"T_0b23b_row6_col5\" class=\"data row6 col5\" >18350.000000</td>\n",
              "      <td id=\"T_0b23b_row6_col6\" class=\"data row6 col6\" >70.000000</td>\n",
              "      <td id=\"T_0b23b_row6_col7\" class=\"data row6 col7\" >24.000000</td>\n",
              "      <td id=\"T_0b23b_row6_col8\" class=\"data row6 col8\" >44.000000</td>\n",
              "    </tr>\n",
              "    <tr>\n",
              "      <th id=\"T_0b23b_level0_row7\" class=\"row_heading level0 row7\" >7</th>\n",
              "      <td id=\"T_0b23b_row7_col0\" class=\"data row7 col0\" >2548af3e6e77a690cf3eb6368e9ab61e</td>\n",
              "      <td id=\"T_0b23b_row7_col1\" class=\"data row7 col1\" >moveis_decoracao</td>\n",
              "      <td id=\"T_0b23b_row7_col2\" class=\"data row7 col2\" >56.000000</td>\n",
              "      <td id=\"T_0b23b_row7_col3\" class=\"data row7 col3\" >184.000000</td>\n",
              "      <td id=\"T_0b23b_row7_col4\" class=\"data row7 col4\" >2.000000</td>\n",
              "      <td id=\"T_0b23b_row7_col5\" class=\"data row7 col5\" >900.000000</td>\n",
              "      <td id=\"T_0b23b_row7_col6\" class=\"data row7 col6\" >40.000000</td>\n",
              "      <td id=\"T_0b23b_row7_col7\" class=\"data row7 col7\" >8.000000</td>\n",
              "      <td id=\"T_0b23b_row7_col8\" class=\"data row7 col8\" >40.000000</td>\n",
              "    </tr>\n",
              "    <tr>\n",
              "      <th id=\"T_0b23b_level0_row8\" class=\"row_heading level0 row8\" >8</th>\n",
              "      <td id=\"T_0b23b_row8_col0\" class=\"data row8 col0\" >37cc742be07708b53a98702e77a21a02</td>\n",
              "      <td id=\"T_0b23b_row8_col1\" class=\"data row8 col1\" >eletrodomesticos</td>\n",
              "      <td id=\"T_0b23b_row8_col2\" class=\"data row8 col2\" >57.000000</td>\n",
              "      <td id=\"T_0b23b_row8_col3\" class=\"data row8 col3\" >163.000000</td>\n",
              "      <td id=\"T_0b23b_row8_col4\" class=\"data row8 col4\" >1.000000</td>\n",
              "      <td id=\"T_0b23b_row8_col5\" class=\"data row8 col5\" >400.000000</td>\n",
              "      <td id=\"T_0b23b_row8_col6\" class=\"data row8 col6\" >27.000000</td>\n",
              "      <td id=\"T_0b23b_row8_col7\" class=\"data row8 col7\" >13.000000</td>\n",
              "      <td id=\"T_0b23b_row8_col8\" class=\"data row8 col8\" >17.000000</td>\n",
              "    </tr>\n",
              "    <tr>\n",
              "      <th id=\"T_0b23b_level0_row9\" class=\"row_heading level0 row9\" >9</th>\n",
              "      <td id=\"T_0b23b_row9_col0\" class=\"data row9 col0\" >8c92109888e8cdf9d66dc7e463025574</td>\n",
              "      <td id=\"T_0b23b_row9_col1\" class=\"data row9 col1\" >brinquedos</td>\n",
              "      <td id=\"T_0b23b_row9_col2\" class=\"data row9 col2\" >36.000000</td>\n",
              "      <td id=\"T_0b23b_row9_col3\" class=\"data row9 col3\" >1156.000000</td>\n",
              "      <td id=\"T_0b23b_row9_col4\" class=\"data row9 col4\" >1.000000</td>\n",
              "      <td id=\"T_0b23b_row9_col5\" class=\"data row9 col5\" >600.000000</td>\n",
              "      <td id=\"T_0b23b_row9_col6\" class=\"data row9 col6\" >17.000000</td>\n",
              "      <td id=\"T_0b23b_row9_col7\" class=\"data row9 col7\" >10.000000</td>\n",
              "      <td id=\"T_0b23b_row9_col8\" class=\"data row9 col8\" >12.000000</td>\n",
              "    </tr>\n",
              "  </tbody>\n",
              "</table>\n"
            ],
            "text/plain": [
              "<pandas.io.formats.style.Styler at 0x116bc795f40>"
            ]
          },
          "execution_count": 4,
          "metadata": {},
          "output_type": "execute_result"
        }
      ],
      "source": [
        "products.head(10).style.background_gradient(cmap = \"mako\")"
      ]
    },
    {
      "cell_type": "code",
      "execution_count": 5,
      "metadata": {},
      "outputs": [
        {
          "data": {
            "text/html": [
              "<style type=\"text/css\">\n",
              "#T_d6b7d_row0_col1 {\n",
              "  background-color: #2f1f3d;\n",
              "  color: #f1f1f1;\n",
              "}\n",
              "#T_d6b7d_row1_col1 {\n",
              "  background-color: #312142;\n",
              "  color: #f1f1f1;\n",
              "}\n",
              "#T_d6b7d_row2_col1 {\n",
              "  background-color: #3d3164;\n",
              "  color: #f1f1f1;\n",
              "}\n",
              "#T_d6b7d_row3_col1 {\n",
              "  background-color: #140910;\n",
              "  color: #f1f1f1;\n",
              "}\n",
              "#T_d6b7d_row4_col1 {\n",
              "  background-color: #2e1e3b;\n",
              "  color: #f1f1f1;\n",
              "}\n",
              "#T_d6b7d_row5_col1 {\n",
              "  background-color: #3e3469;\n",
              "  color: #f1f1f1;\n",
              "}\n",
              "#T_d6b7d_row6_col1 {\n",
              "  background-color: #3aaead;\n",
              "  color: #f1f1f1;\n",
              "}\n",
              "#T_d6b7d_row7_col1 {\n",
              "  background-color: #37284f;\n",
              "  color: #f1f1f1;\n",
              "}\n",
              "#T_d6b7d_row8_col1 {\n",
              "  background-color: #0b0405;\n",
              "  color: #f1f1f1;\n",
              "}\n",
              "#T_d6b7d_row9_col1 {\n",
              "  background-color: #def5e5;\n",
              "  color: #000000;\n",
              "}\n",
              "</style>\n",
              "<table id=\"T_d6b7d\">\n",
              "  <thead>\n",
              "    <tr>\n",
              "      <th class=\"blank level0\" >&nbsp;</th>\n",
              "      <th id=\"T_d6b7d_level0_col0\" class=\"col_heading level0 col0\" >seller_id</th>\n",
              "      <th id=\"T_d6b7d_level0_col1\" class=\"col_heading level0 col1\" >seller_zip_code_prefix</th>\n",
              "      <th id=\"T_d6b7d_level0_col2\" class=\"col_heading level0 col2\" >seller_city</th>\n",
              "      <th id=\"T_d6b7d_level0_col3\" class=\"col_heading level0 col3\" >seller_state</th>\n",
              "    </tr>\n",
              "  </thead>\n",
              "  <tbody>\n",
              "    <tr>\n",
              "      <th id=\"T_d6b7d_level0_row0\" class=\"row_heading level0 row0\" >0</th>\n",
              "      <td id=\"T_d6b7d_row0_col0\" class=\"data row0 col0\" >3442f8959a84dea7ee197c632cb2df15</td>\n",
              "      <td id=\"T_d6b7d_row0_col1\" class=\"data row0 col1\" >13023</td>\n",
              "      <td id=\"T_d6b7d_row0_col2\" class=\"data row0 col2\" >campinas</td>\n",
              "      <td id=\"T_d6b7d_row0_col3\" class=\"data row0 col3\" >SP</td>\n",
              "    </tr>\n",
              "    <tr>\n",
              "      <th id=\"T_d6b7d_level0_row1\" class=\"row_heading level0 row1\" >1</th>\n",
              "      <td id=\"T_d6b7d_row1_col0\" class=\"data row1 col0\" >d1b65fc7debc3361ea86b5f14c68d2e2</td>\n",
              "      <td id=\"T_d6b7d_row1_col1\" class=\"data row1 col1\" >13844</td>\n",
              "      <td id=\"T_d6b7d_row1_col2\" class=\"data row1 col2\" >mogi guacu</td>\n",
              "      <td id=\"T_d6b7d_row1_col3\" class=\"data row1 col3\" >SP</td>\n",
              "    </tr>\n",
              "    <tr>\n",
              "      <th id=\"T_d6b7d_level0_row2\" class=\"row_heading level0 row2\" >2</th>\n",
              "      <td id=\"T_d6b7d_row2_col0\" class=\"data row2 col0\" >ce3ad9de960102d0677a81f5d0bb7b2d</td>\n",
              "      <td id=\"T_d6b7d_row2_col1\" class=\"data row2 col1\" >20031</td>\n",
              "      <td id=\"T_d6b7d_row2_col2\" class=\"data row2 col2\" >rio de janeiro</td>\n",
              "      <td id=\"T_d6b7d_row2_col3\" class=\"data row2 col3\" >RJ</td>\n",
              "    </tr>\n",
              "    <tr>\n",
              "      <th id=\"T_d6b7d_level0_row3\" class=\"row_heading level0 row3\" >3</th>\n",
              "      <td id=\"T_d6b7d_row3_col0\" class=\"data row3 col0\" >c0f3eea2e14555b6faeea3dd58c1b1c3</td>\n",
              "      <td id=\"T_d6b7d_row3_col1\" class=\"data row3 col1\" >4195</td>\n",
              "      <td id=\"T_d6b7d_row3_col2\" class=\"data row3 col2\" >sao paulo</td>\n",
              "      <td id=\"T_d6b7d_row3_col3\" class=\"data row3 col3\" >SP</td>\n",
              "    </tr>\n",
              "    <tr>\n",
              "      <th id=\"T_d6b7d_level0_row4\" class=\"row_heading level0 row4\" >4</th>\n",
              "      <td id=\"T_d6b7d_row4_col0\" class=\"data row4 col0\" >51a04a8a6bdcb23deccc82b0b80742cf</td>\n",
              "      <td id=\"T_d6b7d_row4_col1\" class=\"data row4 col1\" >12914</td>\n",
              "      <td id=\"T_d6b7d_row4_col2\" class=\"data row4 col2\" >braganca paulista</td>\n",
              "      <td id=\"T_d6b7d_row4_col3\" class=\"data row4 col3\" >SP</td>\n",
              "    </tr>\n",
              "    <tr>\n",
              "      <th id=\"T_d6b7d_level0_row5\" class=\"row_heading level0 row5\" >5</th>\n",
              "      <td id=\"T_d6b7d_row5_col0\" class=\"data row5 col0\" >c240c4061717ac1806ae6ee72be3533b</td>\n",
              "      <td id=\"T_d6b7d_row5_col1\" class=\"data row5 col1\" >20920</td>\n",
              "      <td id=\"T_d6b7d_row5_col2\" class=\"data row5 col2\" >rio de janeiro</td>\n",
              "      <td id=\"T_d6b7d_row5_col3\" class=\"data row5 col3\" >RJ</td>\n",
              "    </tr>\n",
              "    <tr>\n",
              "      <th id=\"T_d6b7d_level0_row6\" class=\"row_heading level0 row6\" >6</th>\n",
              "      <td id=\"T_d6b7d_row6_col0\" class=\"data row6 col0\" >e49c26c3edfa46d227d5121a6b6e4d37</td>\n",
              "      <td id=\"T_d6b7d_row6_col1\" class=\"data row6 col1\" >55325</td>\n",
              "      <td id=\"T_d6b7d_row6_col2\" class=\"data row6 col2\" >brejao</td>\n",
              "      <td id=\"T_d6b7d_row6_col3\" class=\"data row6 col3\" >PE</td>\n",
              "    </tr>\n",
              "    <tr>\n",
              "      <th id=\"T_d6b7d_level0_row7\" class=\"row_heading level0 row7\" >7</th>\n",
              "      <td id=\"T_d6b7d_row7_col0\" class=\"data row7 col0\" >1b938a7ec6ac5061a66a3766e0e75f90</td>\n",
              "      <td id=\"T_d6b7d_row7_col1\" class=\"data row7 col1\" >16304</td>\n",
              "      <td id=\"T_d6b7d_row7_col2\" class=\"data row7 col2\" >penapolis</td>\n",
              "      <td id=\"T_d6b7d_row7_col3\" class=\"data row7 col3\" >SP</td>\n",
              "    </tr>\n",
              "    <tr>\n",
              "      <th id=\"T_d6b7d_level0_row8\" class=\"row_heading level0 row8\" >8</th>\n",
              "      <td id=\"T_d6b7d_row8_col0\" class=\"data row8 col0\" >768a86e36ad6aae3d03ee3c6433d61df</td>\n",
              "      <td id=\"T_d6b7d_row8_col1\" class=\"data row8 col1\" >1529</td>\n",
              "      <td id=\"T_d6b7d_row8_col2\" class=\"data row8 col2\" >sao paulo</td>\n",
              "      <td id=\"T_d6b7d_row8_col3\" class=\"data row8 col3\" >SP</td>\n",
              "    </tr>\n",
              "    <tr>\n",
              "      <th id=\"T_d6b7d_level0_row9\" class=\"row_heading level0 row9\" >9</th>\n",
              "      <td id=\"T_d6b7d_row9_col0\" class=\"data row9 col0\" >ccc4bbb5f32a6ab2b7066a4130f114e3</td>\n",
              "      <td id=\"T_d6b7d_row9_col1\" class=\"data row9 col1\" >80310</td>\n",
              "      <td id=\"T_d6b7d_row9_col2\" class=\"data row9 col2\" >curitiba</td>\n",
              "      <td id=\"T_d6b7d_row9_col3\" class=\"data row9 col3\" >PR</td>\n",
              "    </tr>\n",
              "  </tbody>\n",
              "</table>\n"
            ],
            "text/plain": [
              "<pandas.io.formats.style.Styler at 0x116be0d4410>"
            ]
          },
          "execution_count": 5,
          "metadata": {},
          "output_type": "execute_result"
        }
      ],
      "source": [
        "sellers.head(10).style.background_gradient(cmap = \"mako\")"
      ]
    },
    {
      "cell_type": "code",
      "execution_count": 6,
      "metadata": {},
      "outputs": [
        {
          "data": {
            "text/html": [
              "<style type=\"text/css\">\n",
              "</style>\n",
              "<table id=\"T_0a3bc\">\n",
              "  <thead>\n",
              "    <tr>\n",
              "      <th class=\"blank level0\" >&nbsp;</th>\n",
              "      <th id=\"T_0a3bc_level0_col0\" class=\"col_heading level0 col0\" >product_category_name</th>\n",
              "      <th id=\"T_0a3bc_level0_col1\" class=\"col_heading level0 col1\" >product_category_name_english</th>\n",
              "    </tr>\n",
              "  </thead>\n",
              "  <tbody>\n",
              "    <tr>\n",
              "      <th id=\"T_0a3bc_level0_row0\" class=\"row_heading level0 row0\" >0</th>\n",
              "      <td id=\"T_0a3bc_row0_col0\" class=\"data row0 col0\" >beleza_saude</td>\n",
              "      <td id=\"T_0a3bc_row0_col1\" class=\"data row0 col1\" >health_beauty</td>\n",
              "    </tr>\n",
              "    <tr>\n",
              "      <th id=\"T_0a3bc_level0_row1\" class=\"row_heading level0 row1\" >1</th>\n",
              "      <td id=\"T_0a3bc_row1_col0\" class=\"data row1 col0\" >informatica_acessorios</td>\n",
              "      <td id=\"T_0a3bc_row1_col1\" class=\"data row1 col1\" >computers_accessories</td>\n",
              "    </tr>\n",
              "    <tr>\n",
              "      <th id=\"T_0a3bc_level0_row2\" class=\"row_heading level0 row2\" >2</th>\n",
              "      <td id=\"T_0a3bc_row2_col0\" class=\"data row2 col0\" >automotivo</td>\n",
              "      <td id=\"T_0a3bc_row2_col1\" class=\"data row2 col1\" >auto</td>\n",
              "    </tr>\n",
              "    <tr>\n",
              "      <th id=\"T_0a3bc_level0_row3\" class=\"row_heading level0 row3\" >3</th>\n",
              "      <td id=\"T_0a3bc_row3_col0\" class=\"data row3 col0\" >cama_mesa_banho</td>\n",
              "      <td id=\"T_0a3bc_row3_col1\" class=\"data row3 col1\" >bed_bath_table</td>\n",
              "    </tr>\n",
              "    <tr>\n",
              "      <th id=\"T_0a3bc_level0_row4\" class=\"row_heading level0 row4\" >4</th>\n",
              "      <td id=\"T_0a3bc_row4_col0\" class=\"data row4 col0\" >moveis_decoracao</td>\n",
              "      <td id=\"T_0a3bc_row4_col1\" class=\"data row4 col1\" >furniture_decor</td>\n",
              "    </tr>\n",
              "    <tr>\n",
              "      <th id=\"T_0a3bc_level0_row5\" class=\"row_heading level0 row5\" >5</th>\n",
              "      <td id=\"T_0a3bc_row5_col0\" class=\"data row5 col0\" >esporte_lazer</td>\n",
              "      <td id=\"T_0a3bc_row5_col1\" class=\"data row5 col1\" >sports_leisure</td>\n",
              "    </tr>\n",
              "    <tr>\n",
              "      <th id=\"T_0a3bc_level0_row6\" class=\"row_heading level0 row6\" >6</th>\n",
              "      <td id=\"T_0a3bc_row6_col0\" class=\"data row6 col0\" >perfumaria</td>\n",
              "      <td id=\"T_0a3bc_row6_col1\" class=\"data row6 col1\" >perfumery</td>\n",
              "    </tr>\n",
              "    <tr>\n",
              "      <th id=\"T_0a3bc_level0_row7\" class=\"row_heading level0 row7\" >7</th>\n",
              "      <td id=\"T_0a3bc_row7_col0\" class=\"data row7 col0\" >utilidades_domesticas</td>\n",
              "      <td id=\"T_0a3bc_row7_col1\" class=\"data row7 col1\" >housewares</td>\n",
              "    </tr>\n",
              "    <tr>\n",
              "      <th id=\"T_0a3bc_level0_row8\" class=\"row_heading level0 row8\" >8</th>\n",
              "      <td id=\"T_0a3bc_row8_col0\" class=\"data row8 col0\" >telefonia</td>\n",
              "      <td id=\"T_0a3bc_row8_col1\" class=\"data row8 col1\" >telephony</td>\n",
              "    </tr>\n",
              "    <tr>\n",
              "      <th id=\"T_0a3bc_level0_row9\" class=\"row_heading level0 row9\" >9</th>\n",
              "      <td id=\"T_0a3bc_row9_col0\" class=\"data row9 col0\" >relogios_presentes</td>\n",
              "      <td id=\"T_0a3bc_row9_col1\" class=\"data row9 col1\" >watches_gifts</td>\n",
              "    </tr>\n",
              "  </tbody>\n",
              "</table>\n"
            ],
            "text/plain": [
              "<pandas.io.formats.style.Styler at 0x116bc718470>"
            ]
          },
          "execution_count": 6,
          "metadata": {},
          "output_type": "execute_result"
        }
      ],
      "source": [
        "category_translation.head(10).style.background_gradient(cmap = \"mako\")"
      ]
    },
    {
      "cell_type": "code",
      "execution_count": 7,
      "metadata": {},
      "outputs": [
        {
          "data": {
            "text/html": [
              "<style type=\"text/css\">\n",
              "#T_5a348_row0_col1, #T_5a348_row1_col1, #T_5a348_row2_col1, #T_5a348_row3_col1, #T_5a348_row3_col5, #T_5a348_row4_col1, #T_5a348_row5_col1, #T_5a348_row6_col1, #T_5a348_row7_col1, #T_5a348_row8_col1, #T_5a348_row9_col1, #T_5a348_row9_col6 {\n",
              "  background-color: #0b0405;\n",
              "  color: #f1f1f1;\n",
              "}\n",
              "#T_5a348_row0_col5 {\n",
              "  background-color: #1a0e19;\n",
              "  color: #f1f1f1;\n",
              "}\n",
              "#T_5a348_row0_col6 {\n",
              "  background-color: #140910;\n",
              "  color: #f1f1f1;\n",
              "}\n",
              "#T_5a348_row1_col5 {\n",
              "  background-color: #403c79;\n",
              "  color: #f1f1f1;\n",
              "}\n",
              "#T_5a348_row1_col6 {\n",
              "  background-color: #2e1e3b;\n",
              "  color: #f1f1f1;\n",
              "}\n",
              "#T_5a348_row2_col5 {\n",
              "  background-color: #3c3162;\n",
              "  color: #f1f1f1;\n",
              "}\n",
              "#T_5a348_row2_col6 {\n",
              "  background-color: #27182d;\n",
              "  color: #f1f1f1;\n",
              "}\n",
              "#T_5a348_row3_col6, #T_5a348_row5_col6 {\n",
              "  background-color: #11070c;\n",
              "  color: #f1f1f1;\n",
              "}\n",
              "#T_5a348_row4_col5 {\n",
              "  background-color: #3d3164;\n",
              "  color: #f1f1f1;\n",
              "}\n",
              "#T_5a348_row4_col6 {\n",
              "  background-color: #291930;\n",
              "  color: #f1f1f1;\n",
              "}\n",
              "#T_5a348_row5_col5, #T_5a348_row6_col5 {\n",
              "  background-color: #0e0508;\n",
              "  color: #f1f1f1;\n",
              "}\n",
              "#T_5a348_row6_col6, #T_5a348_row8_col6 {\n",
              "  background-color: #0d0406;\n",
              "  color: #f1f1f1;\n",
              "}\n",
              "#T_5a348_row7_col5, #T_5a348_row7_col6 {\n",
              "  background-color: #def5e5;\n",
              "  color: #000000;\n",
              "}\n",
              "#T_5a348_row8_col5 {\n",
              "  background-color: #332345;\n",
              "  color: #f1f1f1;\n",
              "}\n",
              "#T_5a348_row9_col5 {\n",
              "  background-color: #190e18;\n",
              "  color: #f1f1f1;\n",
              "}\n",
              "</style>\n",
              "<table id=\"T_5a348\">\n",
              "  <thead>\n",
              "    <tr>\n",
              "      <th class=\"blank level0\" >&nbsp;</th>\n",
              "      <th id=\"T_5a348_level0_col0\" class=\"col_heading level0 col0\" >order_id</th>\n",
              "      <th id=\"T_5a348_level0_col1\" class=\"col_heading level0 col1\" >order_item_id</th>\n",
              "      <th id=\"T_5a348_level0_col2\" class=\"col_heading level0 col2\" >product_id</th>\n",
              "      <th id=\"T_5a348_level0_col3\" class=\"col_heading level0 col3\" >seller_id</th>\n",
              "      <th id=\"T_5a348_level0_col4\" class=\"col_heading level0 col4\" >shipping_limit_date</th>\n",
              "      <th id=\"T_5a348_level0_col5\" class=\"col_heading level0 col5\" >price</th>\n",
              "      <th id=\"T_5a348_level0_col6\" class=\"col_heading level0 col6\" >freight_value</th>\n",
              "    </tr>\n",
              "  </thead>\n",
              "  <tbody>\n",
              "    <tr>\n",
              "      <th id=\"T_5a348_level0_row0\" class=\"row_heading level0 row0\" >0</th>\n",
              "      <td id=\"T_5a348_row0_col0\" class=\"data row0 col0\" >00010242fe8c5a6d1ba2dd792cb16214</td>\n",
              "      <td id=\"T_5a348_row0_col1\" class=\"data row0 col1\" >1</td>\n",
              "      <td id=\"T_5a348_row0_col2\" class=\"data row0 col2\" >4244733e06e7ecb4970a6e2683c13e61</td>\n",
              "      <td id=\"T_5a348_row0_col3\" class=\"data row0 col3\" >48436dade18ac8b2bce089ec2a041202</td>\n",
              "      <td id=\"T_5a348_row0_col4\" class=\"data row0 col4\" >2017-09-19 09:45:35</td>\n",
              "      <td id=\"T_5a348_row0_col5\" class=\"data row0 col5\" >58.900000</td>\n",
              "      <td id=\"T_5a348_row0_col6\" class=\"data row0 col6\" >13.290000</td>\n",
              "    </tr>\n",
              "    <tr>\n",
              "      <th id=\"T_5a348_level0_row1\" class=\"row_heading level0 row1\" >1</th>\n",
              "      <td id=\"T_5a348_row1_col0\" class=\"data row1 col0\" >00018f77f2f0320c557190d7a144bdd3</td>\n",
              "      <td id=\"T_5a348_row1_col1\" class=\"data row1 col1\" >1</td>\n",
              "      <td id=\"T_5a348_row1_col2\" class=\"data row1 col2\" >e5f2d52b802189ee658865ca93d83a8f</td>\n",
              "      <td id=\"T_5a348_row1_col3\" class=\"data row1 col3\" >dd7ddc04e1b6c2c614352b383efe2d36</td>\n",
              "      <td id=\"T_5a348_row1_col4\" class=\"data row1 col4\" >2017-05-03 11:05:13</td>\n",
              "      <td id=\"T_5a348_row1_col5\" class=\"data row1 col5\" >239.900000</td>\n",
              "      <td id=\"T_5a348_row1_col6\" class=\"data row1 col6\" >19.930000</td>\n",
              "    </tr>\n",
              "    <tr>\n",
              "      <th id=\"T_5a348_level0_row2\" class=\"row_heading level0 row2\" >2</th>\n",
              "      <td id=\"T_5a348_row2_col0\" class=\"data row2 col0\" >000229ec398224ef6ca0657da4fc703e</td>\n",
              "      <td id=\"T_5a348_row2_col1\" class=\"data row2 col1\" >1</td>\n",
              "      <td id=\"T_5a348_row2_col2\" class=\"data row2 col2\" >c777355d18b72b67abbeef9df44fd0fd</td>\n",
              "      <td id=\"T_5a348_row2_col3\" class=\"data row2 col3\" >5b51032eddd242adc84c38acab88f23d</td>\n",
              "      <td id=\"T_5a348_row2_col4\" class=\"data row2 col4\" >2018-01-18 14:48:30</td>\n",
              "      <td id=\"T_5a348_row2_col5\" class=\"data row2 col5\" >199.000000</td>\n",
              "      <td id=\"T_5a348_row2_col6\" class=\"data row2 col6\" >17.870000</td>\n",
              "    </tr>\n",
              "    <tr>\n",
              "      <th id=\"T_5a348_level0_row3\" class=\"row_heading level0 row3\" >3</th>\n",
              "      <td id=\"T_5a348_row3_col0\" class=\"data row3 col0\" >00024acbcdf0a6daa1e931b038114c75</td>\n",
              "      <td id=\"T_5a348_row3_col1\" class=\"data row3 col1\" >1</td>\n",
              "      <td id=\"T_5a348_row3_col2\" class=\"data row3 col2\" >7634da152a4610f1595efa32f14722fc</td>\n",
              "      <td id=\"T_5a348_row3_col3\" class=\"data row3 col3\" >9d7a1d34a5052409006425275ba1c2b4</td>\n",
              "      <td id=\"T_5a348_row3_col4\" class=\"data row3 col4\" >2018-08-15 10:10:18</td>\n",
              "      <td id=\"T_5a348_row3_col5\" class=\"data row3 col5\" >12.990000</td>\n",
              "      <td id=\"T_5a348_row3_col6\" class=\"data row3 col6\" >12.790000</td>\n",
              "    </tr>\n",
              "    <tr>\n",
              "      <th id=\"T_5a348_level0_row4\" class=\"row_heading level0 row4\" >4</th>\n",
              "      <td id=\"T_5a348_row4_col0\" class=\"data row4 col0\" >00042b26cf59d7ce69dfabb4e55b4fd9</td>\n",
              "      <td id=\"T_5a348_row4_col1\" class=\"data row4 col1\" >1</td>\n",
              "      <td id=\"T_5a348_row4_col2\" class=\"data row4 col2\" >ac6c3623068f30de03045865e4e10089</td>\n",
              "      <td id=\"T_5a348_row4_col3\" class=\"data row4 col3\" >df560393f3a51e74553ab94004ba5c87</td>\n",
              "      <td id=\"T_5a348_row4_col4\" class=\"data row4 col4\" >2017-02-13 13:57:51</td>\n",
              "      <td id=\"T_5a348_row4_col5\" class=\"data row4 col5\" >199.900000</td>\n",
              "      <td id=\"T_5a348_row4_col6\" class=\"data row4 col6\" >18.140000</td>\n",
              "    </tr>\n",
              "    <tr>\n",
              "      <th id=\"T_5a348_level0_row5\" class=\"row_heading level0 row5\" >5</th>\n",
              "      <td id=\"T_5a348_row5_col0\" class=\"data row5 col0\" >00048cc3ae777c65dbb7d2a0634bc1ea</td>\n",
              "      <td id=\"T_5a348_row5_col1\" class=\"data row5 col1\" >1</td>\n",
              "      <td id=\"T_5a348_row5_col2\" class=\"data row5 col2\" >ef92defde845ab8450f9d70c526ef70f</td>\n",
              "      <td id=\"T_5a348_row5_col3\" class=\"data row5 col3\" >6426d21aca402a131fc0a5d0960a3c90</td>\n",
              "      <td id=\"T_5a348_row5_col4\" class=\"data row5 col4\" >2017-05-23 03:55:27</td>\n",
              "      <td id=\"T_5a348_row5_col5\" class=\"data row5 col5\" >21.900000</td>\n",
              "      <td id=\"T_5a348_row5_col6\" class=\"data row5 col6\" >12.690000</td>\n",
              "    </tr>\n",
              "    <tr>\n",
              "      <th id=\"T_5a348_level0_row6\" class=\"row_heading level0 row6\" >6</th>\n",
              "      <td id=\"T_5a348_row6_col0\" class=\"data row6 col0\" >00054e8431b9d7675808bcb819fb4a32</td>\n",
              "      <td id=\"T_5a348_row6_col1\" class=\"data row6 col1\" >1</td>\n",
              "      <td id=\"T_5a348_row6_col2\" class=\"data row6 col2\" >8d4f2bb7e93e6710a28f34fa83ee7d28</td>\n",
              "      <td id=\"T_5a348_row6_col3\" class=\"data row6 col3\" >7040e82f899a04d1b434b795a43b4617</td>\n",
              "      <td id=\"T_5a348_row6_col4\" class=\"data row6 col4\" >2017-12-14 12:10:31</td>\n",
              "      <td id=\"T_5a348_row6_col5\" class=\"data row6 col5\" >19.900000</td>\n",
              "      <td id=\"T_5a348_row6_col6\" class=\"data row6 col6\" >11.850000</td>\n",
              "    </tr>\n",
              "    <tr>\n",
              "      <th id=\"T_5a348_level0_row7\" class=\"row_heading level0 row7\" >7</th>\n",
              "      <td id=\"T_5a348_row7_col0\" class=\"data row7 col0\" >000576fe39319847cbb9d288c5617fa6</td>\n",
              "      <td id=\"T_5a348_row7_col1\" class=\"data row7 col1\" >1</td>\n",
              "      <td id=\"T_5a348_row7_col2\" class=\"data row7 col2\" >557d850972a7d6f792fd18ae1400d9b6</td>\n",
              "      <td id=\"T_5a348_row7_col3\" class=\"data row7 col3\" >5996cddab893a4652a15592fb58ab8db</td>\n",
              "      <td id=\"T_5a348_row7_col4\" class=\"data row7 col4\" >2018-07-10 12:30:45</td>\n",
              "      <td id=\"T_5a348_row7_col5\" class=\"data row7 col5\" >810.000000</td>\n",
              "      <td id=\"T_5a348_row7_col6\" class=\"data row7 col6\" >70.750000</td>\n",
              "    </tr>\n",
              "    <tr>\n",
              "      <th id=\"T_5a348_level0_row8\" class=\"row_heading level0 row8\" >8</th>\n",
              "      <td id=\"T_5a348_row8_col0\" class=\"data row8 col0\" >0005a1a1728c9d785b8e2b08b904576c</td>\n",
              "      <td id=\"T_5a348_row8_col1\" class=\"data row8 col1\" >1</td>\n",
              "      <td id=\"T_5a348_row8_col2\" class=\"data row8 col2\" >310ae3c140ff94b03219ad0adc3c778f</td>\n",
              "      <td id=\"T_5a348_row8_col3\" class=\"data row8 col3\" >a416b6a846a11724393025641d4edd5e</td>\n",
              "      <td id=\"T_5a348_row8_col4\" class=\"data row8 col4\" >2018-03-26 18:31:29</td>\n",
              "      <td id=\"T_5a348_row8_col5\" class=\"data row8 col5\" >145.950000</td>\n",
              "      <td id=\"T_5a348_row8_col6\" class=\"data row8 col6\" >11.650000</td>\n",
              "    </tr>\n",
              "    <tr>\n",
              "      <th id=\"T_5a348_level0_row9\" class=\"row_heading level0 row9\" >9</th>\n",
              "      <td id=\"T_5a348_row9_col0\" class=\"data row9 col0\" >0005f50442cb953dcd1d21e1fb923495</td>\n",
              "      <td id=\"T_5a348_row9_col1\" class=\"data row9 col1\" >1</td>\n",
              "      <td id=\"T_5a348_row9_col2\" class=\"data row9 col2\" >4535b0e1091c278dfd193e5a1d63b39f</td>\n",
              "      <td id=\"T_5a348_row9_col3\" class=\"data row9 col3\" >ba143b05f0110f0dc71ad71b4466ce92</td>\n",
              "      <td id=\"T_5a348_row9_col4\" class=\"data row9 col4\" >2018-07-06 14:10:56</td>\n",
              "      <td id=\"T_5a348_row9_col5\" class=\"data row9 col5\" >53.990000</td>\n",
              "      <td id=\"T_5a348_row9_col6\" class=\"data row9 col6\" >11.400000</td>\n",
              "    </tr>\n",
              "  </tbody>\n",
              "</table>\n"
            ],
            "text/plain": [
              "<pandas.io.formats.style.Styler at 0x116be039370>"
            ]
          },
          "execution_count": 7,
          "metadata": {},
          "output_type": "execute_result"
        }
      ],
      "source": [
        "order_items.head(10).style.background_gradient(cmap = \"mako\")"
      ]
    },
    {
      "cell_type": "code",
      "execution_count": 8,
      "metadata": {},
      "outputs": [
        {
          "data": {
            "text/html": [
              "<style type=\"text/css\">\n",
              "#T_ab5cf_row0_col2, #T_ab5cf_row9_col2 {\n",
              "  background-color: #4bc2ad;\n",
              "  color: #000000;\n",
              "}\n",
              "#T_ab5cf_row1_col2, #T_ab5cf_row2_col2, #T_ab5cf_row3_col2, #T_ab5cf_row4_col2, #T_ab5cf_row6_col2, #T_ab5cf_row7_col2, #T_ab5cf_row8_col2 {\n",
              "  background-color: #def5e5;\n",
              "  color: #000000;\n",
              "}\n",
              "#T_ab5cf_row5_col2 {\n",
              "  background-color: #0b0405;\n",
              "  color: #f1f1f1;\n",
              "}\n",
              "</style>\n",
              "<table id=\"T_ab5cf\">\n",
              "  <thead>\n",
              "    <tr>\n",
              "      <th class=\"blank level0\" >&nbsp;</th>\n",
              "      <th id=\"T_ab5cf_level0_col0\" class=\"col_heading level0 col0\" >review_id</th>\n",
              "      <th id=\"T_ab5cf_level0_col1\" class=\"col_heading level0 col1\" >order_id</th>\n",
              "      <th id=\"T_ab5cf_level0_col2\" class=\"col_heading level0 col2\" >review_score</th>\n",
              "      <th id=\"T_ab5cf_level0_col3\" class=\"col_heading level0 col3\" >review_comment_title</th>\n",
              "      <th id=\"T_ab5cf_level0_col4\" class=\"col_heading level0 col4\" >review_comment_message</th>\n",
              "      <th id=\"T_ab5cf_level0_col5\" class=\"col_heading level0 col5\" >review_creation_date</th>\n",
              "      <th id=\"T_ab5cf_level0_col6\" class=\"col_heading level0 col6\" >review_answer_timestamp</th>\n",
              "    </tr>\n",
              "  </thead>\n",
              "  <tbody>\n",
              "    <tr>\n",
              "      <th id=\"T_ab5cf_level0_row0\" class=\"row_heading level0 row0\" >0</th>\n",
              "      <td id=\"T_ab5cf_row0_col0\" class=\"data row0 col0\" >7bc2406110b926393aa56f80a40eba40</td>\n",
              "      <td id=\"T_ab5cf_row0_col1\" class=\"data row0 col1\" >73fc7af87114b39712e6da79b0a377eb</td>\n",
              "      <td id=\"T_ab5cf_row0_col2\" class=\"data row0 col2\" >4</td>\n",
              "      <td id=\"T_ab5cf_row0_col3\" class=\"data row0 col3\" >nan</td>\n",
              "      <td id=\"T_ab5cf_row0_col4\" class=\"data row0 col4\" >nan</td>\n",
              "      <td id=\"T_ab5cf_row0_col5\" class=\"data row0 col5\" >2018-01-18 00:00:00</td>\n",
              "      <td id=\"T_ab5cf_row0_col6\" class=\"data row0 col6\" >2018-01-18 21:46:59</td>\n",
              "    </tr>\n",
              "    <tr>\n",
              "      <th id=\"T_ab5cf_level0_row1\" class=\"row_heading level0 row1\" >1</th>\n",
              "      <td id=\"T_ab5cf_row1_col0\" class=\"data row1 col0\" >80e641a11e56f04c1ad469d5645fdfde</td>\n",
              "      <td id=\"T_ab5cf_row1_col1\" class=\"data row1 col1\" >a548910a1c6147796b98fdf73dbeba33</td>\n",
              "      <td id=\"T_ab5cf_row1_col2\" class=\"data row1 col2\" >5</td>\n",
              "      <td id=\"T_ab5cf_row1_col3\" class=\"data row1 col3\" >nan</td>\n",
              "      <td id=\"T_ab5cf_row1_col4\" class=\"data row1 col4\" >nan</td>\n",
              "      <td id=\"T_ab5cf_row1_col5\" class=\"data row1 col5\" >2018-03-10 00:00:00</td>\n",
              "      <td id=\"T_ab5cf_row1_col6\" class=\"data row1 col6\" >2018-03-11 03:05:13</td>\n",
              "    </tr>\n",
              "    <tr>\n",
              "      <th id=\"T_ab5cf_level0_row2\" class=\"row_heading level0 row2\" >2</th>\n",
              "      <td id=\"T_ab5cf_row2_col0\" class=\"data row2 col0\" >228ce5500dc1d8e020d8d1322874b6f0</td>\n",
              "      <td id=\"T_ab5cf_row2_col1\" class=\"data row2 col1\" >f9e4b658b201a9f2ecdecbb34bed034b</td>\n",
              "      <td id=\"T_ab5cf_row2_col2\" class=\"data row2 col2\" >5</td>\n",
              "      <td id=\"T_ab5cf_row2_col3\" class=\"data row2 col3\" >nan</td>\n",
              "      <td id=\"T_ab5cf_row2_col4\" class=\"data row2 col4\" >nan</td>\n",
              "      <td id=\"T_ab5cf_row2_col5\" class=\"data row2 col5\" >2018-02-17 00:00:00</td>\n",
              "      <td id=\"T_ab5cf_row2_col6\" class=\"data row2 col6\" >2018-02-18 14:36:24</td>\n",
              "    </tr>\n",
              "    <tr>\n",
              "      <th id=\"T_ab5cf_level0_row3\" class=\"row_heading level0 row3\" >3</th>\n",
              "      <td id=\"T_ab5cf_row3_col0\" class=\"data row3 col0\" >e64fb393e7b32834bb789ff8bb30750e</td>\n",
              "      <td id=\"T_ab5cf_row3_col1\" class=\"data row3 col1\" >658677c97b385a9be170737859d3511b</td>\n",
              "      <td id=\"T_ab5cf_row3_col2\" class=\"data row3 col2\" >5</td>\n",
              "      <td id=\"T_ab5cf_row3_col3\" class=\"data row3 col3\" >nan</td>\n",
              "      <td id=\"T_ab5cf_row3_col4\" class=\"data row3 col4\" >Recebi bem antes do prazo estipulado.</td>\n",
              "      <td id=\"T_ab5cf_row3_col5\" class=\"data row3 col5\" >2017-04-21 00:00:00</td>\n",
              "      <td id=\"T_ab5cf_row3_col6\" class=\"data row3 col6\" >2017-04-21 22:02:06</td>\n",
              "    </tr>\n",
              "    <tr>\n",
              "      <th id=\"T_ab5cf_level0_row4\" class=\"row_heading level0 row4\" >4</th>\n",
              "      <td id=\"T_ab5cf_row4_col0\" class=\"data row4 col0\" >f7c4243c7fe1938f181bec41a392bdeb</td>\n",
              "      <td id=\"T_ab5cf_row4_col1\" class=\"data row4 col1\" >8e6bfb81e283fa7e4f11123a3fb894f1</td>\n",
              "      <td id=\"T_ab5cf_row4_col2\" class=\"data row4 col2\" >5</td>\n",
              "      <td id=\"T_ab5cf_row4_col3\" class=\"data row4 col3\" >nan</td>\n",
              "      <td id=\"T_ab5cf_row4_col4\" class=\"data row4 col4\" >Parabéns lojas lannister adorei comprar pela Internet seguro e prático Parabéns a todos feliz Páscoa</td>\n",
              "      <td id=\"T_ab5cf_row4_col5\" class=\"data row4 col5\" >2018-03-01 00:00:00</td>\n",
              "      <td id=\"T_ab5cf_row4_col6\" class=\"data row4 col6\" >2018-03-02 10:26:53</td>\n",
              "    </tr>\n",
              "    <tr>\n",
              "      <th id=\"T_ab5cf_level0_row5\" class=\"row_heading level0 row5\" >5</th>\n",
              "      <td id=\"T_ab5cf_row5_col0\" class=\"data row5 col0\" >15197aa66ff4d0650b5434f1b46cda19</td>\n",
              "      <td id=\"T_ab5cf_row5_col1\" class=\"data row5 col1\" >b18dcdf73be66366873cd26c5724d1dc</td>\n",
              "      <td id=\"T_ab5cf_row5_col2\" class=\"data row5 col2\" >1</td>\n",
              "      <td id=\"T_ab5cf_row5_col3\" class=\"data row5 col3\" >nan</td>\n",
              "      <td id=\"T_ab5cf_row5_col4\" class=\"data row5 col4\" >nan</td>\n",
              "      <td id=\"T_ab5cf_row5_col5\" class=\"data row5 col5\" >2018-04-13 00:00:00</td>\n",
              "      <td id=\"T_ab5cf_row5_col6\" class=\"data row5 col6\" >2018-04-16 00:39:37</td>\n",
              "    </tr>\n",
              "    <tr>\n",
              "      <th id=\"T_ab5cf_level0_row6\" class=\"row_heading level0 row6\" >6</th>\n",
              "      <td id=\"T_ab5cf_row6_col0\" class=\"data row6 col0\" >07f9bee5d1b850860defd761afa7ff16</td>\n",
              "      <td id=\"T_ab5cf_row6_col1\" class=\"data row6 col1\" >e48aa0d2dcec3a2e87348811bcfdf22b</td>\n",
              "      <td id=\"T_ab5cf_row6_col2\" class=\"data row6 col2\" >5</td>\n",
              "      <td id=\"T_ab5cf_row6_col3\" class=\"data row6 col3\" >nan</td>\n",
              "      <td id=\"T_ab5cf_row6_col4\" class=\"data row6 col4\" >nan</td>\n",
              "      <td id=\"T_ab5cf_row6_col5\" class=\"data row6 col5\" >2017-07-16 00:00:00</td>\n",
              "      <td id=\"T_ab5cf_row6_col6\" class=\"data row6 col6\" >2017-07-18 19:30:34</td>\n",
              "    </tr>\n",
              "    <tr>\n",
              "      <th id=\"T_ab5cf_level0_row7\" class=\"row_heading level0 row7\" >7</th>\n",
              "      <td id=\"T_ab5cf_row7_col0\" class=\"data row7 col0\" >7c6400515c67679fbee952a7525281ef</td>\n",
              "      <td id=\"T_ab5cf_row7_col1\" class=\"data row7 col1\" >c31a859e34e3adac22f376954e19b39d</td>\n",
              "      <td id=\"T_ab5cf_row7_col2\" class=\"data row7 col2\" >5</td>\n",
              "      <td id=\"T_ab5cf_row7_col3\" class=\"data row7 col3\" >nan</td>\n",
              "      <td id=\"T_ab5cf_row7_col4\" class=\"data row7 col4\" >nan</td>\n",
              "      <td id=\"T_ab5cf_row7_col5\" class=\"data row7 col5\" >2018-08-14 00:00:00</td>\n",
              "      <td id=\"T_ab5cf_row7_col6\" class=\"data row7 col6\" >2018-08-14 21:36:06</td>\n",
              "    </tr>\n",
              "    <tr>\n",
              "      <th id=\"T_ab5cf_level0_row8\" class=\"row_heading level0 row8\" >8</th>\n",
              "      <td id=\"T_ab5cf_row8_col0\" class=\"data row8 col0\" >a3f6f7f6f433de0aefbb97da197c554c</td>\n",
              "      <td id=\"T_ab5cf_row8_col1\" class=\"data row8 col1\" >9c214ac970e84273583ab523dfafd09b</td>\n",
              "      <td id=\"T_ab5cf_row8_col2\" class=\"data row8 col2\" >5</td>\n",
              "      <td id=\"T_ab5cf_row8_col3\" class=\"data row8 col3\" >nan</td>\n",
              "      <td id=\"T_ab5cf_row8_col4\" class=\"data row8 col4\" >nan</td>\n",
              "      <td id=\"T_ab5cf_row8_col5\" class=\"data row8 col5\" >2017-05-17 00:00:00</td>\n",
              "      <td id=\"T_ab5cf_row8_col6\" class=\"data row8 col6\" >2017-05-18 12:05:37</td>\n",
              "    </tr>\n",
              "    <tr>\n",
              "      <th id=\"T_ab5cf_level0_row9\" class=\"row_heading level0 row9\" >9</th>\n",
              "      <td id=\"T_ab5cf_row9_col0\" class=\"data row9 col0\" >8670d52e15e00043ae7de4c01cc2fe06</td>\n",
              "      <td id=\"T_ab5cf_row9_col1\" class=\"data row9 col1\" >b9bf720beb4ab3728760088589c62129</td>\n",
              "      <td id=\"T_ab5cf_row9_col2\" class=\"data row9 col2\" >4</td>\n",
              "      <td id=\"T_ab5cf_row9_col3\" class=\"data row9 col3\" >recomendo</td>\n",
              "      <td id=\"T_ab5cf_row9_col4\" class=\"data row9 col4\" >aparelho eficiente. no site a marca do aparelho esta impresso como 3desinfector e ao chegar esta com outro nome...atualizar com a marca correta uma vez que é o mesmo aparelho</td>\n",
              "      <td id=\"T_ab5cf_row9_col5\" class=\"data row9 col5\" >2018-05-22 00:00:00</td>\n",
              "      <td id=\"T_ab5cf_row9_col6\" class=\"data row9 col6\" >2018-05-23 16:45:47</td>\n",
              "    </tr>\n",
              "  </tbody>\n",
              "</table>\n"
            ],
            "text/plain": [
              "<pandas.io.formats.style.Styler at 0x116be0d6150>"
            ]
          },
          "execution_count": 8,
          "metadata": {},
          "output_type": "execute_result"
        }
      ],
      "source": [
        "customer_reviews.head(10).style.background_gradient(cmap='mako')"
      ]
    },
    {
      "cell_type": "markdown",
      "metadata": {
        "id": "MMi6xGaDkbCi"
      },
      "source": [
        "**Insight:**\n",
        "Gathering semua dataset yang diperlukan untuk melakukan analisis atas objektif yang telah ditentukan"
      ]
    },
    {
      "cell_type": "markdown",
      "metadata": {
        "id": "FHSiqaZp8DC1"
      },
      "source": [
        "### Assessing Data"
      ]
    },
    {
      "cell_type": "markdown",
      "metadata": {},
      "source": [
        "#### Orders"
      ]
    },
    {
      "cell_type": "code",
      "execution_count": 9,
      "metadata": {},
      "outputs": [
        {
          "name": "stdout",
          "output_type": "stream",
          "text": [
            "<class 'pandas.core.frame.DataFrame'>\n",
            "RangeIndex: 99441 entries, 0 to 99440\n",
            "Data columns (total 8 columns):\n",
            " #   Column                         Non-Null Count  Dtype \n",
            "---  ------                         --------------  ----- \n",
            " 0   order_id                       99441 non-null  object\n",
            " 1   customer_id                    99441 non-null  object\n",
            " 2   order_status                   99441 non-null  object\n",
            " 3   order_purchase_timestamp       99441 non-null  object\n",
            " 4   order_approved_at              99281 non-null  object\n",
            " 5   order_delivered_carrier_date   97658 non-null  object\n",
            " 6   order_delivered_customer_date  96476 non-null  object\n",
            " 7   order_estimated_delivery_date  99441 non-null  object\n",
            "dtypes: object(8)\n",
            "memory usage: 6.1+ MB\n"
          ]
        }
      ],
      "source": [
        "orders.info()"
      ]
    },
    {
      "cell_type": "code",
      "execution_count": 10,
      "metadata": {},
      "outputs": [
        {
          "data": {
            "text/plain": [
              "0"
            ]
          },
          "execution_count": 10,
          "metadata": {},
          "output_type": "execute_result"
        }
      ],
      "source": [
        "orders.duplicated().sum()"
      ]
    },
    {
      "cell_type": "code",
      "execution_count": 11,
      "metadata": {},
      "outputs": [
        {
          "data": {
            "text/html": [
              "<style type=\"text/css\">\n",
              "</style>\n",
              "<table id=\"T_a6490\">\n",
              "  <thead>\n",
              "    <tr>\n",
              "      <th class=\"blank level0\" >&nbsp;</th>\n",
              "      <th id=\"T_a6490_level0_col0\" class=\"col_heading level0 col0\" >order_id</th>\n",
              "      <th id=\"T_a6490_level0_col1\" class=\"col_heading level0 col1\" >customer_id</th>\n",
              "      <th id=\"T_a6490_level0_col2\" class=\"col_heading level0 col2\" >order_status</th>\n",
              "      <th id=\"T_a6490_level0_col3\" class=\"col_heading level0 col3\" >order_purchase_timestamp</th>\n",
              "      <th id=\"T_a6490_level0_col4\" class=\"col_heading level0 col4\" >order_approved_at</th>\n",
              "      <th id=\"T_a6490_level0_col5\" class=\"col_heading level0 col5\" >order_delivered_carrier_date</th>\n",
              "      <th id=\"T_a6490_level0_col6\" class=\"col_heading level0 col6\" >order_delivered_customer_date</th>\n",
              "      <th id=\"T_a6490_level0_col7\" class=\"col_heading level0 col7\" >order_estimated_delivery_date</th>\n",
              "    </tr>\n",
              "  </thead>\n",
              "  <tbody>\n",
              "    <tr>\n",
              "      <th id=\"T_a6490_level0_row0\" class=\"row_heading level0 row0\" >count</th>\n",
              "      <td id=\"T_a6490_row0_col0\" class=\"data row0 col0\" >99441</td>\n",
              "      <td id=\"T_a6490_row0_col1\" class=\"data row0 col1\" >99441</td>\n",
              "      <td id=\"T_a6490_row0_col2\" class=\"data row0 col2\" >99441</td>\n",
              "      <td id=\"T_a6490_row0_col3\" class=\"data row0 col3\" >99441</td>\n",
              "      <td id=\"T_a6490_row0_col4\" class=\"data row0 col4\" >99281</td>\n",
              "      <td id=\"T_a6490_row0_col5\" class=\"data row0 col5\" >97658</td>\n",
              "      <td id=\"T_a6490_row0_col6\" class=\"data row0 col6\" >96476</td>\n",
              "      <td id=\"T_a6490_row0_col7\" class=\"data row0 col7\" >99441</td>\n",
              "    </tr>\n",
              "    <tr>\n",
              "      <th id=\"T_a6490_level0_row1\" class=\"row_heading level0 row1\" >unique</th>\n",
              "      <td id=\"T_a6490_row1_col0\" class=\"data row1 col0\" >99441</td>\n",
              "      <td id=\"T_a6490_row1_col1\" class=\"data row1 col1\" >99441</td>\n",
              "      <td id=\"T_a6490_row1_col2\" class=\"data row1 col2\" >8</td>\n",
              "      <td id=\"T_a6490_row1_col3\" class=\"data row1 col3\" >98875</td>\n",
              "      <td id=\"T_a6490_row1_col4\" class=\"data row1 col4\" >90733</td>\n",
              "      <td id=\"T_a6490_row1_col5\" class=\"data row1 col5\" >81018</td>\n",
              "      <td id=\"T_a6490_row1_col6\" class=\"data row1 col6\" >95664</td>\n",
              "      <td id=\"T_a6490_row1_col7\" class=\"data row1 col7\" >459</td>\n",
              "    </tr>\n",
              "    <tr>\n",
              "      <th id=\"T_a6490_level0_row2\" class=\"row_heading level0 row2\" >top</th>\n",
              "      <td id=\"T_a6490_row2_col0\" class=\"data row2 col0\" >e481f51cbdc54678b7cc49136f2d6af7</td>\n",
              "      <td id=\"T_a6490_row2_col1\" class=\"data row2 col1\" >9ef432eb6251297304e76186b10a928d</td>\n",
              "      <td id=\"T_a6490_row2_col2\" class=\"data row2 col2\" >delivered</td>\n",
              "      <td id=\"T_a6490_row2_col3\" class=\"data row2 col3\" >2018-04-11 10:48:14</td>\n",
              "      <td id=\"T_a6490_row2_col4\" class=\"data row2 col4\" >2018-02-27 04:31:10</td>\n",
              "      <td id=\"T_a6490_row2_col5\" class=\"data row2 col5\" >2018-05-09 15:48:00</td>\n",
              "      <td id=\"T_a6490_row2_col6\" class=\"data row2 col6\" >2018-05-08 23:38:46</td>\n",
              "      <td id=\"T_a6490_row2_col7\" class=\"data row2 col7\" >2017-12-20 00:00:00</td>\n",
              "    </tr>\n",
              "    <tr>\n",
              "      <th id=\"T_a6490_level0_row3\" class=\"row_heading level0 row3\" >freq</th>\n",
              "      <td id=\"T_a6490_row3_col0\" class=\"data row3 col0\" >1</td>\n",
              "      <td id=\"T_a6490_row3_col1\" class=\"data row3 col1\" >1</td>\n",
              "      <td id=\"T_a6490_row3_col2\" class=\"data row3 col2\" >96478</td>\n",
              "      <td id=\"T_a6490_row3_col3\" class=\"data row3 col3\" >3</td>\n",
              "      <td id=\"T_a6490_row3_col4\" class=\"data row3 col4\" >9</td>\n",
              "      <td id=\"T_a6490_row3_col5\" class=\"data row3 col5\" >47</td>\n",
              "      <td id=\"T_a6490_row3_col6\" class=\"data row3 col6\" >3</td>\n",
              "      <td id=\"T_a6490_row3_col7\" class=\"data row3 col7\" >522</td>\n",
              "    </tr>\n",
              "  </tbody>\n",
              "</table>\n"
            ],
            "text/plain": [
              "<pandas.io.formats.style.Styler at 0x116be039e20>"
            ]
          },
          "execution_count": 11,
          "metadata": {},
          "output_type": "execute_result"
        }
      ],
      "source": [
        "orders.describe().style.background_gradient(cmap='mako')"
      ]
    },
    {
      "cell_type": "markdown",
      "metadata": {},
      "source": [
        "**Insight:**\n",
        "Pada kolom [0] hingga [7] ditemukan tipe data yang belum sesuai"
      ]
    },
    {
      "cell_type": "markdown",
      "metadata": {},
      "source": [
        "#### Products"
      ]
    },
    {
      "cell_type": "code",
      "execution_count": 12,
      "metadata": {},
      "outputs": [
        {
          "name": "stdout",
          "output_type": "stream",
          "text": [
            "<class 'pandas.core.frame.DataFrame'>\n",
            "RangeIndex: 32951 entries, 0 to 32950\n",
            "Data columns (total 9 columns):\n",
            " #   Column                      Non-Null Count  Dtype  \n",
            "---  ------                      --------------  -----  \n",
            " 0   product_id                  32951 non-null  object \n",
            " 1   product_category_name       32341 non-null  object \n",
            " 2   product_name_lenght         32341 non-null  float64\n",
            " 3   product_description_lenght  32341 non-null  float64\n",
            " 4   product_photos_qty          32341 non-null  float64\n",
            " 5   product_weight_g            32949 non-null  float64\n",
            " 6   product_length_cm           32949 non-null  float64\n",
            " 7   product_height_cm           32949 non-null  float64\n",
            " 8   product_width_cm            32949 non-null  float64\n",
            "dtypes: float64(7), object(2)\n",
            "memory usage: 2.3+ MB\n"
          ]
        }
      ],
      "source": [
        "products.info()"
      ]
    },
    {
      "cell_type": "code",
      "execution_count": 13,
      "metadata": {},
      "outputs": [
        {
          "data": {
            "text/plain": [
              "0"
            ]
          },
          "execution_count": 13,
          "metadata": {},
          "output_type": "execute_result"
        }
      ],
      "source": [
        "products.duplicated().sum()"
      ]
    },
    {
      "cell_type": "code",
      "execution_count": 14,
      "metadata": {},
      "outputs": [
        {
          "data": {
            "text/html": [
              "<style type=\"text/css\">\n",
              "#T_43aec_row0_col0, #T_43aec_row0_col1, #T_43aec_row0_col2, #T_43aec_row0_col4, #T_43aec_row0_col5, #T_43aec_row0_col6, #T_43aec_row7_col3 {\n",
              "  background-color: #def5e5;\n",
              "  color: #000000;\n",
              "}\n",
              "#T_43aec_row0_col3 {\n",
              "  background-color: #6ad2ad;\n",
              "  color: #000000;\n",
              "}\n",
              "#T_43aec_row1_col0, #T_43aec_row1_col2, #T_43aec_row1_col4, #T_43aec_row1_col5, #T_43aec_row1_col6, #T_43aec_row2_col0, #T_43aec_row2_col2, #T_43aec_row2_col4, #T_43aec_row2_col5, #T_43aec_row2_col6, #T_43aec_row3_col0, #T_43aec_row3_col1, #T_43aec_row3_col2, #T_43aec_row3_col3, #T_43aec_row3_col4, #T_43aec_row3_col5, #T_43aec_row3_col6, #T_43aec_row4_col0, #T_43aec_row4_col2, #T_43aec_row4_col4, #T_43aec_row4_col5, #T_43aec_row4_col6, #T_43aec_row5_col0, #T_43aec_row5_col2, #T_43aec_row5_col4, #T_43aec_row5_col5, #T_43aec_row5_col6, #T_43aec_row6_col0, #T_43aec_row6_col2, #T_43aec_row6_col4, #T_43aec_row6_col5, #T_43aec_row6_col6, #T_43aec_row7_col0, #T_43aec_row7_col2, #T_43aec_row7_col4, #T_43aec_row7_col5, #T_43aec_row7_col6 {\n",
              "  background-color: #0b0405;\n",
              "  color: #f1f1f1;\n",
              "}\n",
              "#T_43aec_row1_col1 {\n",
              "  background-color: #12080d;\n",
              "  color: #f1f1f1;\n",
              "}\n",
              "#T_43aec_row1_col3 {\n",
              "  background-color: #1a0e19;\n",
              "  color: #f1f1f1;\n",
              "}\n",
              "#T_43aec_row2_col1, #T_43aec_row5_col1, #T_43aec_row5_col3 {\n",
              "  background-color: #10060a;\n",
              "  color: #f1f1f1;\n",
              "}\n",
              "#T_43aec_row2_col3 {\n",
              "  background-color: #27182d;\n",
              "  color: #f1f1f1;\n",
              "}\n",
              "#T_43aec_row4_col1 {\n",
              "  background-color: #0e0508;\n",
              "  color: #f1f1f1;\n",
              "}\n",
              "#T_43aec_row4_col3 {\n",
              "  background-color: #0d0406;\n",
              "  color: #f1f1f1;\n",
              "}\n",
              "#T_43aec_row6_col1 {\n",
              "  background-color: #13090f;\n",
              "  color: #f1f1f1;\n",
              "}\n",
              "#T_43aec_row6_col3 {\n",
              "  background-color: #180d16;\n",
              "  color: #f1f1f1;\n",
              "}\n",
              "#T_43aec_row7_col1 {\n",
              "  background-color: #2a1b33;\n",
              "  color: #f1f1f1;\n",
              "}\n",
              "</style>\n",
              "<table id=\"T_43aec\">\n",
              "  <thead>\n",
              "    <tr>\n",
              "      <th class=\"blank level0\" >&nbsp;</th>\n",
              "      <th id=\"T_43aec_level0_col0\" class=\"col_heading level0 col0\" >product_name_lenght</th>\n",
              "      <th id=\"T_43aec_level0_col1\" class=\"col_heading level0 col1\" >product_description_lenght</th>\n",
              "      <th id=\"T_43aec_level0_col2\" class=\"col_heading level0 col2\" >product_photos_qty</th>\n",
              "      <th id=\"T_43aec_level0_col3\" class=\"col_heading level0 col3\" >product_weight_g</th>\n",
              "      <th id=\"T_43aec_level0_col4\" class=\"col_heading level0 col4\" >product_length_cm</th>\n",
              "      <th id=\"T_43aec_level0_col5\" class=\"col_heading level0 col5\" >product_height_cm</th>\n",
              "      <th id=\"T_43aec_level0_col6\" class=\"col_heading level0 col6\" >product_width_cm</th>\n",
              "    </tr>\n",
              "  </thead>\n",
              "  <tbody>\n",
              "    <tr>\n",
              "      <th id=\"T_43aec_level0_row0\" class=\"row_heading level0 row0\" >count</th>\n",
              "      <td id=\"T_43aec_row0_col0\" class=\"data row0 col0\" >32341.000000</td>\n",
              "      <td id=\"T_43aec_row0_col1\" class=\"data row0 col1\" >32341.000000</td>\n",
              "      <td id=\"T_43aec_row0_col2\" class=\"data row0 col2\" >32341.000000</td>\n",
              "      <td id=\"T_43aec_row0_col3\" class=\"data row0 col3\" >32949.000000</td>\n",
              "      <td id=\"T_43aec_row0_col4\" class=\"data row0 col4\" >32949.000000</td>\n",
              "      <td id=\"T_43aec_row0_col5\" class=\"data row0 col5\" >32949.000000</td>\n",
              "      <td id=\"T_43aec_row0_col6\" class=\"data row0 col6\" >32949.000000</td>\n",
              "    </tr>\n",
              "    <tr>\n",
              "      <th id=\"T_43aec_level0_row1\" class=\"row_heading level0 row1\" >mean</th>\n",
              "      <td id=\"T_43aec_row1_col0\" class=\"data row1 col0\" >48.476949</td>\n",
              "      <td id=\"T_43aec_row1_col1\" class=\"data row1 col1\" >771.495285</td>\n",
              "      <td id=\"T_43aec_row1_col2\" class=\"data row1 col2\" >2.188986</td>\n",
              "      <td id=\"T_43aec_row1_col3\" class=\"data row1 col3\" >2276.472488</td>\n",
              "      <td id=\"T_43aec_row1_col4\" class=\"data row1 col4\" >30.815078</td>\n",
              "      <td id=\"T_43aec_row1_col5\" class=\"data row1 col5\" >16.937661</td>\n",
              "      <td id=\"T_43aec_row1_col6\" class=\"data row1 col6\" >23.196728</td>\n",
              "    </tr>\n",
              "    <tr>\n",
              "      <th id=\"T_43aec_level0_row2\" class=\"row_heading level0 row2\" >std</th>\n",
              "      <td id=\"T_43aec_row2_col0\" class=\"data row2 col0\" >10.245741</td>\n",
              "      <td id=\"T_43aec_row2_col1\" class=\"data row2 col1\" >635.115225</td>\n",
              "      <td id=\"T_43aec_row2_col2\" class=\"data row2 col2\" >1.736766</td>\n",
              "      <td id=\"T_43aec_row2_col3\" class=\"data row2 col3\" >4282.038731</td>\n",
              "      <td id=\"T_43aec_row2_col4\" class=\"data row2 col4\" >16.914458</td>\n",
              "      <td id=\"T_43aec_row2_col5\" class=\"data row2 col5\" >13.637554</td>\n",
              "      <td id=\"T_43aec_row2_col6\" class=\"data row2 col6\" >12.079047</td>\n",
              "    </tr>\n",
              "    <tr>\n",
              "      <th id=\"T_43aec_level0_row3\" class=\"row_heading level0 row3\" >min</th>\n",
              "      <td id=\"T_43aec_row3_col0\" class=\"data row3 col0\" >5.000000</td>\n",
              "      <td id=\"T_43aec_row3_col1\" class=\"data row3 col1\" >4.000000</td>\n",
              "      <td id=\"T_43aec_row3_col2\" class=\"data row3 col2\" >1.000000</td>\n",
              "      <td id=\"T_43aec_row3_col3\" class=\"data row3 col3\" >0.000000</td>\n",
              "      <td id=\"T_43aec_row3_col4\" class=\"data row3 col4\" >7.000000</td>\n",
              "      <td id=\"T_43aec_row3_col5\" class=\"data row3 col5\" >2.000000</td>\n",
              "      <td id=\"T_43aec_row3_col6\" class=\"data row3 col6\" >6.000000</td>\n",
              "    </tr>\n",
              "    <tr>\n",
              "      <th id=\"T_43aec_level0_row4\" class=\"row_heading level0 row4\" >25%</th>\n",
              "      <td id=\"T_43aec_row4_col0\" class=\"data row4 col0\" >42.000000</td>\n",
              "      <td id=\"T_43aec_row4_col1\" class=\"data row4 col1\" >339.000000</td>\n",
              "      <td id=\"T_43aec_row4_col2\" class=\"data row4 col2\" >1.000000</td>\n",
              "      <td id=\"T_43aec_row4_col3\" class=\"data row4 col3\" >300.000000</td>\n",
              "      <td id=\"T_43aec_row4_col4\" class=\"data row4 col4\" >18.000000</td>\n",
              "      <td id=\"T_43aec_row4_col5\" class=\"data row4 col5\" >8.000000</td>\n",
              "      <td id=\"T_43aec_row4_col6\" class=\"data row4 col6\" >15.000000</td>\n",
              "    </tr>\n",
              "    <tr>\n",
              "      <th id=\"T_43aec_level0_row5\" class=\"row_heading level0 row5\" >50%</th>\n",
              "      <td id=\"T_43aec_row5_col0\" class=\"data row5 col0\" >51.000000</td>\n",
              "      <td id=\"T_43aec_row5_col1\" class=\"data row5 col1\" >595.000000</td>\n",
              "      <td id=\"T_43aec_row5_col2\" class=\"data row5 col2\" >1.000000</td>\n",
              "      <td id=\"T_43aec_row5_col3\" class=\"data row5 col3\" >700.000000</td>\n",
              "      <td id=\"T_43aec_row5_col4\" class=\"data row5 col4\" >25.000000</td>\n",
              "      <td id=\"T_43aec_row5_col5\" class=\"data row5 col5\" >13.000000</td>\n",
              "      <td id=\"T_43aec_row5_col6\" class=\"data row5 col6\" >20.000000</td>\n",
              "    </tr>\n",
              "    <tr>\n",
              "      <th id=\"T_43aec_level0_row6\" class=\"row_heading level0 row6\" >75%</th>\n",
              "      <td id=\"T_43aec_row6_col0\" class=\"data row6 col0\" >57.000000</td>\n",
              "      <td id=\"T_43aec_row6_col1\" class=\"data row6 col1\" >972.000000</td>\n",
              "      <td id=\"T_43aec_row6_col2\" class=\"data row6 col2\" >3.000000</td>\n",
              "      <td id=\"T_43aec_row6_col3\" class=\"data row6 col3\" >1900.000000</td>\n",
              "      <td id=\"T_43aec_row6_col4\" class=\"data row6 col4\" >38.000000</td>\n",
              "      <td id=\"T_43aec_row6_col5\" class=\"data row6 col5\" >21.000000</td>\n",
              "      <td id=\"T_43aec_row6_col6\" class=\"data row6 col6\" >30.000000</td>\n",
              "    </tr>\n",
              "    <tr>\n",
              "      <th id=\"T_43aec_level0_row7\" class=\"row_heading level0 row7\" >max</th>\n",
              "      <td id=\"T_43aec_row7_col0\" class=\"data row7 col0\" >76.000000</td>\n",
              "      <td id=\"T_43aec_row7_col1\" class=\"data row7 col1\" >3992.000000</td>\n",
              "      <td id=\"T_43aec_row7_col2\" class=\"data row7 col2\" >20.000000</td>\n",
              "      <td id=\"T_43aec_row7_col3\" class=\"data row7 col3\" >40425.000000</td>\n",
              "      <td id=\"T_43aec_row7_col4\" class=\"data row7 col4\" >105.000000</td>\n",
              "      <td id=\"T_43aec_row7_col5\" class=\"data row7 col5\" >105.000000</td>\n",
              "      <td id=\"T_43aec_row7_col6\" class=\"data row7 col6\" >118.000000</td>\n",
              "    </tr>\n",
              "  </tbody>\n",
              "</table>\n"
            ],
            "text/plain": [
              "<pandas.io.formats.style.Styler at 0x116bf8a17f0>"
            ]
          },
          "execution_count": 14,
          "metadata": {},
          "output_type": "execute_result"
        }
      ],
      "source": [
        "products.describe().style.background_gradient(cmap='mako')"
      ]
    },
    {
      "cell_type": "markdown",
      "metadata": {},
      "source": [
        "**Insight:**\n",
        "Pada kolom [0] dan [1] ditemukan tipe data yang belum sesuai"
      ]
    },
    {
      "cell_type": "markdown",
      "metadata": {},
      "source": [
        "#### Sellers"
      ]
    },
    {
      "cell_type": "code",
      "execution_count": 15,
      "metadata": {},
      "outputs": [
        {
          "name": "stdout",
          "output_type": "stream",
          "text": [
            "<class 'pandas.core.frame.DataFrame'>\n",
            "RangeIndex: 3095 entries, 0 to 3094\n",
            "Data columns (total 4 columns):\n",
            " #   Column                  Non-Null Count  Dtype \n",
            "---  ------                  --------------  ----- \n",
            " 0   seller_id               3095 non-null   object\n",
            " 1   seller_zip_code_prefix  3095 non-null   int64 \n",
            " 2   seller_city             3095 non-null   object\n",
            " 3   seller_state            3095 non-null   object\n",
            "dtypes: int64(1), object(3)\n",
            "memory usage: 96.8+ KB\n"
          ]
        }
      ],
      "source": [
        "sellers.info()"
      ]
    },
    {
      "cell_type": "code",
      "execution_count": 16,
      "metadata": {},
      "outputs": [
        {
          "data": {
            "text/plain": [
              "0"
            ]
          },
          "execution_count": 16,
          "metadata": {},
          "output_type": "execute_result"
        }
      ],
      "source": [
        "sellers.duplicated().sum()"
      ]
    },
    {
      "cell_type": "code",
      "execution_count": 17,
      "metadata": {},
      "outputs": [
        {
          "data": {
            "text/html": [
              "<div>\n",
              "<style scoped>\n",
              "    .dataframe tbody tr th:only-of-type {\n",
              "        vertical-align: middle;\n",
              "    }\n",
              "\n",
              "    .dataframe tbody tr th {\n",
              "        vertical-align: top;\n",
              "    }\n",
              "\n",
              "    .dataframe thead th {\n",
              "        text-align: right;\n",
              "    }\n",
              "</style>\n",
              "<table border=\"1\" class=\"dataframe\">\n",
              "  <thead>\n",
              "    <tr style=\"text-align: right;\">\n",
              "      <th></th>\n",
              "      <th>seller_zip_code_prefix</th>\n",
              "    </tr>\n",
              "  </thead>\n",
              "  <tbody>\n",
              "    <tr>\n",
              "      <th>count</th>\n",
              "      <td>3095.000000</td>\n",
              "    </tr>\n",
              "    <tr>\n",
              "      <th>mean</th>\n",
              "      <td>32291.059451</td>\n",
              "    </tr>\n",
              "    <tr>\n",
              "      <th>std</th>\n",
              "      <td>32713.453830</td>\n",
              "    </tr>\n",
              "    <tr>\n",
              "      <th>min</th>\n",
              "      <td>1001.000000</td>\n",
              "    </tr>\n",
              "    <tr>\n",
              "      <th>25%</th>\n",
              "      <td>7093.500000</td>\n",
              "    </tr>\n",
              "    <tr>\n",
              "      <th>50%</th>\n",
              "      <td>14940.000000</td>\n",
              "    </tr>\n",
              "    <tr>\n",
              "      <th>75%</th>\n",
              "      <td>64552.500000</td>\n",
              "    </tr>\n",
              "    <tr>\n",
              "      <th>max</th>\n",
              "      <td>99730.000000</td>\n",
              "    </tr>\n",
              "  </tbody>\n",
              "</table>\n",
              "</div>"
            ],
            "text/plain": [
              "       seller_zip_code_prefix\n",
              "count             3095.000000\n",
              "mean             32291.059451\n",
              "std              32713.453830\n",
              "min               1001.000000\n",
              "25%               7093.500000\n",
              "50%              14940.000000\n",
              "75%              64552.500000\n",
              "max              99730.000000"
            ]
          },
          "execution_count": 17,
          "metadata": {},
          "output_type": "execute_result"
        }
      ],
      "source": [
        "sellers.describe()"
      ]
    },
    {
      "cell_type": "markdown",
      "metadata": {},
      "source": [
        "**Insight:**\n",
        "Pada kolom [0], [2], [3] ditemukan tipe data yang belum sesuai"
      ]
    },
    {
      "cell_type": "markdown",
      "metadata": {},
      "source": [
        "#### Category"
      ]
    },
    {
      "cell_type": "code",
      "execution_count": 18,
      "metadata": {},
      "outputs": [
        {
          "name": "stdout",
          "output_type": "stream",
          "text": [
            "<class 'pandas.core.frame.DataFrame'>\n",
            "RangeIndex: 71 entries, 0 to 70\n",
            "Data columns (total 2 columns):\n",
            " #   Column                         Non-Null Count  Dtype \n",
            "---  ------                         --------------  ----- \n",
            " 0   product_category_name          71 non-null     object\n",
            " 1   product_category_name_english  71 non-null     object\n",
            "dtypes: object(2)\n",
            "memory usage: 1.2+ KB\n"
          ]
        }
      ],
      "source": [
        "category_translation.info()"
      ]
    },
    {
      "cell_type": "code",
      "execution_count": 19,
      "metadata": {},
      "outputs": [
        {
          "data": {
            "text/plain": [
              "0"
            ]
          },
          "execution_count": 19,
          "metadata": {},
          "output_type": "execute_result"
        }
      ],
      "source": [
        "category_translation.duplicated().sum()"
      ]
    },
    {
      "cell_type": "code",
      "execution_count": 20,
      "metadata": {},
      "outputs": [
        {
          "data": {
            "text/html": [
              "<div>\n",
              "<style scoped>\n",
              "    .dataframe tbody tr th:only-of-type {\n",
              "        vertical-align: middle;\n",
              "    }\n",
              "\n",
              "    .dataframe tbody tr th {\n",
              "        vertical-align: top;\n",
              "    }\n",
              "\n",
              "    .dataframe thead th {\n",
              "        text-align: right;\n",
              "    }\n",
              "</style>\n",
              "<table border=\"1\" class=\"dataframe\">\n",
              "  <thead>\n",
              "    <tr style=\"text-align: right;\">\n",
              "      <th></th>\n",
              "      <th>product_category_name</th>\n",
              "      <th>product_category_name_english</th>\n",
              "    </tr>\n",
              "  </thead>\n",
              "  <tbody>\n",
              "    <tr>\n",
              "      <th>count</th>\n",
              "      <td>71</td>\n",
              "      <td>71</td>\n",
              "    </tr>\n",
              "    <tr>\n",
              "      <th>unique</th>\n",
              "      <td>71</td>\n",
              "      <td>71</td>\n",
              "    </tr>\n",
              "    <tr>\n",
              "      <th>top</th>\n",
              "      <td>beleza_saude</td>\n",
              "      <td>health_beauty</td>\n",
              "    </tr>\n",
              "    <tr>\n",
              "      <th>freq</th>\n",
              "      <td>1</td>\n",
              "      <td>1</td>\n",
              "    </tr>\n",
              "  </tbody>\n",
              "</table>\n",
              "</div>"
            ],
            "text/plain": [
              "       product_category_name product_category_name_english\n",
              "count                     71                            71\n",
              "unique                    71                            71\n",
              "top             beleza_saude                 health_beauty\n",
              "freq                       1                             1"
            ]
          },
          "execution_count": 20,
          "metadata": {},
          "output_type": "execute_result"
        }
      ],
      "source": [
        "category_translation.describe()"
      ]
    },
    {
      "cell_type": "markdown",
      "metadata": {
        "id": "7dtxhAPrkhPL"
      },
      "source": [
        "**Insight:**\n",
        "Pada kolom [0] dan [1] ditemukan tipe data yang belum sesuai"
      ]
    },
    {
      "cell_type": "markdown",
      "metadata": {},
      "source": [
        "#### Order_Items"
      ]
    },
    {
      "cell_type": "code",
      "execution_count": 21,
      "metadata": {},
      "outputs": [
        {
          "name": "stdout",
          "output_type": "stream",
          "text": [
            "<class 'pandas.core.frame.DataFrame'>\n",
            "RangeIndex: 112650 entries, 0 to 112649\n",
            "Data columns (total 7 columns):\n",
            " #   Column               Non-Null Count   Dtype  \n",
            "---  ------               --------------   -----  \n",
            " 0   order_id             112650 non-null  object \n",
            " 1   order_item_id        112650 non-null  int64  \n",
            " 2   product_id           112650 non-null  object \n",
            " 3   seller_id            112650 non-null  object \n",
            " 4   shipping_limit_date  112650 non-null  object \n",
            " 5   price                112650 non-null  float64\n",
            " 6   freight_value        112650 non-null  float64\n",
            "dtypes: float64(2), int64(1), object(4)\n",
            "memory usage: 6.0+ MB\n"
          ]
        }
      ],
      "source": [
        "order_items.info()"
      ]
    },
    {
      "cell_type": "code",
      "execution_count": 22,
      "metadata": {},
      "outputs": [
        {
          "data": {
            "text/plain": [
              "0"
            ]
          },
          "execution_count": 22,
          "metadata": {},
          "output_type": "execute_result"
        }
      ],
      "source": [
        "order_items.duplicated().sum()"
      ]
    },
    {
      "cell_type": "code",
      "execution_count": 23,
      "metadata": {},
      "outputs": [
        {
          "data": {
            "text/html": [
              "<div>\n",
              "<style scoped>\n",
              "    .dataframe tbody tr th:only-of-type {\n",
              "        vertical-align: middle;\n",
              "    }\n",
              "\n",
              "    .dataframe tbody tr th {\n",
              "        vertical-align: top;\n",
              "    }\n",
              "\n",
              "    .dataframe thead th {\n",
              "        text-align: right;\n",
              "    }\n",
              "</style>\n",
              "<table border=\"1\" class=\"dataframe\">\n",
              "  <thead>\n",
              "    <tr style=\"text-align: right;\">\n",
              "      <th></th>\n",
              "      <th>order_item_id</th>\n",
              "      <th>price</th>\n",
              "      <th>freight_value</th>\n",
              "    </tr>\n",
              "  </thead>\n",
              "  <tbody>\n",
              "    <tr>\n",
              "      <th>count</th>\n",
              "      <td>112650.000000</td>\n",
              "      <td>112650.000000</td>\n",
              "      <td>112650.000000</td>\n",
              "    </tr>\n",
              "    <tr>\n",
              "      <th>mean</th>\n",
              "      <td>1.197834</td>\n",
              "      <td>120.653739</td>\n",
              "      <td>19.990320</td>\n",
              "    </tr>\n",
              "    <tr>\n",
              "      <th>std</th>\n",
              "      <td>0.705124</td>\n",
              "      <td>183.633928</td>\n",
              "      <td>15.806405</td>\n",
              "    </tr>\n",
              "    <tr>\n",
              "      <th>min</th>\n",
              "      <td>1.000000</td>\n",
              "      <td>0.850000</td>\n",
              "      <td>0.000000</td>\n",
              "    </tr>\n",
              "    <tr>\n",
              "      <th>25%</th>\n",
              "      <td>1.000000</td>\n",
              "      <td>39.900000</td>\n",
              "      <td>13.080000</td>\n",
              "    </tr>\n",
              "    <tr>\n",
              "      <th>50%</th>\n",
              "      <td>1.000000</td>\n",
              "      <td>74.990000</td>\n",
              "      <td>16.260000</td>\n",
              "    </tr>\n",
              "    <tr>\n",
              "      <th>75%</th>\n",
              "      <td>1.000000</td>\n",
              "      <td>134.900000</td>\n",
              "      <td>21.150000</td>\n",
              "    </tr>\n",
              "    <tr>\n",
              "      <th>max</th>\n",
              "      <td>21.000000</td>\n",
              "      <td>6735.000000</td>\n",
              "      <td>409.680000</td>\n",
              "    </tr>\n",
              "  </tbody>\n",
              "</table>\n",
              "</div>"
            ],
            "text/plain": [
              "       order_item_id          price  freight_value\n",
              "count  112650.000000  112650.000000  112650.000000\n",
              "mean        1.197834     120.653739      19.990320\n",
              "std         0.705124     183.633928      15.806405\n",
              "min         1.000000       0.850000       0.000000\n",
              "25%         1.000000      39.900000      13.080000\n",
              "50%         1.000000      74.990000      16.260000\n",
              "75%         1.000000     134.900000      21.150000\n",
              "max        21.000000    6735.000000     409.680000"
            ]
          },
          "execution_count": 23,
          "metadata": {},
          "output_type": "execute_result"
        }
      ],
      "source": [
        "order_items.describe()"
      ]
    },
    {
      "cell_type": "markdown",
      "metadata": {},
      "source": [
        "**Insight:**\n",
        "Pada kolom [4] ditemukan tipe data yang belum sesuai"
      ]
    },
    {
      "cell_type": "markdown",
      "metadata": {},
      "source": [
        "#### Customer_Reviews"
      ]
    },
    {
      "cell_type": "code",
      "execution_count": 24,
      "metadata": {},
      "outputs": [
        {
          "name": "stdout",
          "output_type": "stream",
          "text": [
            "<class 'pandas.core.frame.DataFrame'>\n",
            "RangeIndex: 99224 entries, 0 to 99223\n",
            "Data columns (total 7 columns):\n",
            " #   Column                   Non-Null Count  Dtype \n",
            "---  ------                   --------------  ----- \n",
            " 0   review_id                99224 non-null  object\n",
            " 1   order_id                 99224 non-null  object\n",
            " 2   review_score             99224 non-null  int64 \n",
            " 3   review_comment_title     11568 non-null  object\n",
            " 4   review_comment_message   40977 non-null  object\n",
            " 5   review_creation_date     99224 non-null  object\n",
            " 6   review_answer_timestamp  99224 non-null  object\n",
            "dtypes: int64(1), object(6)\n",
            "memory usage: 5.3+ MB\n"
          ]
        }
      ],
      "source": [
        "customer_reviews.info()"
      ]
    },
    {
      "cell_type": "code",
      "execution_count": 25,
      "metadata": {},
      "outputs": [
        {
          "data": {
            "text/plain": [
              "0"
            ]
          },
          "execution_count": 25,
          "metadata": {},
          "output_type": "execute_result"
        }
      ],
      "source": [
        "customer_reviews.duplicated().sum()"
      ]
    },
    {
      "cell_type": "code",
      "execution_count": 26,
      "metadata": {},
      "outputs": [
        {
          "data": {
            "text/html": [
              "<div>\n",
              "<style scoped>\n",
              "    .dataframe tbody tr th:only-of-type {\n",
              "        vertical-align: middle;\n",
              "    }\n",
              "\n",
              "    .dataframe tbody tr th {\n",
              "        vertical-align: top;\n",
              "    }\n",
              "\n",
              "    .dataframe thead th {\n",
              "        text-align: right;\n",
              "    }\n",
              "</style>\n",
              "<table border=\"1\" class=\"dataframe\">\n",
              "  <thead>\n",
              "    <tr style=\"text-align: right;\">\n",
              "      <th></th>\n",
              "      <th>review_score</th>\n",
              "    </tr>\n",
              "  </thead>\n",
              "  <tbody>\n",
              "    <tr>\n",
              "      <th>count</th>\n",
              "      <td>99224.000000</td>\n",
              "    </tr>\n",
              "    <tr>\n",
              "      <th>mean</th>\n",
              "      <td>4.086421</td>\n",
              "    </tr>\n",
              "    <tr>\n",
              "      <th>std</th>\n",
              "      <td>1.347579</td>\n",
              "    </tr>\n",
              "    <tr>\n",
              "      <th>min</th>\n",
              "      <td>1.000000</td>\n",
              "    </tr>\n",
              "    <tr>\n",
              "      <th>25%</th>\n",
              "      <td>4.000000</td>\n",
              "    </tr>\n",
              "    <tr>\n",
              "      <th>50%</th>\n",
              "      <td>5.000000</td>\n",
              "    </tr>\n",
              "    <tr>\n",
              "      <th>75%</th>\n",
              "      <td>5.000000</td>\n",
              "    </tr>\n",
              "    <tr>\n",
              "      <th>max</th>\n",
              "      <td>5.000000</td>\n",
              "    </tr>\n",
              "  </tbody>\n",
              "</table>\n",
              "</div>"
            ],
            "text/plain": [
              "       review_score\n",
              "count  99224.000000\n",
              "mean       4.086421\n",
              "std        1.347579\n",
              "min        1.000000\n",
              "25%        4.000000\n",
              "50%        5.000000\n",
              "75%        5.000000\n",
              "max        5.000000"
            ]
          },
          "execution_count": 26,
          "metadata": {},
          "output_type": "execute_result"
        }
      ],
      "source": [
        "customer_reviews.describe()"
      ]
    },
    {
      "cell_type": "markdown",
      "metadata": {
        "id": "EhN5R4hr8DC1"
      },
      "source": [
        "### Cleaning Data"
      ]
    },
    {
      "cell_type": "markdown",
      "metadata": {},
      "source": [
        "#### Data Orders Formating"
      ]
    },
    {
      "cell_type": "code",
      "execution_count": 27,
      "metadata": {},
      "outputs": [],
      "source": [
        "orders['order_purchase_timestamp'] = pd.to_datetime(orders['order_purchase_timestamp'])\n",
        "orders['order_delivered_customer_date'] = pd.to_datetime(orders['order_delivered_customer_date'])\n",
        "orders['order_approved_at'] = pd.to_datetime(orders['order_approved_at'])\n",
        "orders['order_delivered_carrier_date'] = pd.to_datetime(orders['order_delivered_carrier_date'])\n",
        "orders['order_estimated_delivery_date'] = pd.to_datetime(orders['order_estimated_delivery_date'])"
      ]
    },
    {
      "cell_type": "code",
      "execution_count": 28,
      "metadata": {},
      "outputs": [],
      "source": [
        "orders[['order_id', 'customer_id', 'order_status']] = orders[['order_id', 'customer_id', 'order_status']].astype(str)"
      ]
    },
    {
      "cell_type": "code",
      "execution_count": 29,
      "metadata": {},
      "outputs": [
        {
          "name": "stdout",
          "output_type": "stream",
          "text": [
            "<class 'pandas.core.frame.DataFrame'>\n",
            "RangeIndex: 99441 entries, 0 to 99440\n",
            "Data columns (total 8 columns):\n",
            " #   Column                         Non-Null Count  Dtype         \n",
            "---  ------                         --------------  -----         \n",
            " 0   order_id                       99441 non-null  object        \n",
            " 1   customer_id                    99441 non-null  object        \n",
            " 2   order_status                   99441 non-null  object        \n",
            " 3   order_purchase_timestamp       99441 non-null  datetime64[ns]\n",
            " 4   order_approved_at              99281 non-null  datetime64[ns]\n",
            " 5   order_delivered_carrier_date   97658 non-null  datetime64[ns]\n",
            " 6   order_delivered_customer_date  96476 non-null  datetime64[ns]\n",
            " 7   order_estimated_delivery_date  99441 non-null  datetime64[ns]\n",
            "dtypes: datetime64[ns](5), object(3)\n",
            "memory usage: 6.1+ MB\n"
          ]
        }
      ],
      "source": [
        "orders.info()"
      ]
    },
    {
      "cell_type": "markdown",
      "metadata": {},
      "source": [
        "#### Data Products Formating"
      ]
    },
    {
      "cell_type": "code",
      "execution_count": 30,
      "metadata": {},
      "outputs": [],
      "source": [
        "# Alternatively, if you want to convert specific columns:\n",
        "products[['product_id', 'product_category_name']] = products[['product_id', 'product_category_name']].astype(str)"
      ]
    },
    {
      "cell_type": "code",
      "execution_count": 31,
      "metadata": {},
      "outputs": [
        {
          "name": "stdout",
          "output_type": "stream",
          "text": [
            "<class 'pandas.core.frame.DataFrame'>\n",
            "RangeIndex: 32951 entries, 0 to 32950\n",
            "Data columns (total 9 columns):\n",
            " #   Column                      Non-Null Count  Dtype  \n",
            "---  ------                      --------------  -----  \n",
            " 0   product_id                  32951 non-null  object \n",
            " 1   product_category_name       32951 non-null  object \n",
            " 2   product_name_lenght         32341 non-null  float64\n",
            " 3   product_description_lenght  32341 non-null  float64\n",
            " 4   product_photos_qty          32341 non-null  float64\n",
            " 5   product_weight_g            32949 non-null  float64\n",
            " 6   product_length_cm           32949 non-null  float64\n",
            " 7   product_height_cm           32949 non-null  float64\n",
            " 8   product_width_cm            32949 non-null  float64\n",
            "dtypes: float64(7), object(2)\n",
            "memory usage: 2.3+ MB\n"
          ]
        }
      ],
      "source": [
        "products.info()"
      ]
    },
    {
      "cell_type": "markdown",
      "metadata": {},
      "source": [
        "#### Data Order_Items Formating"
      ]
    },
    {
      "cell_type": "code",
      "execution_count": 32,
      "metadata": {},
      "outputs": [],
      "source": [
        "order_items['shipping_limit_date'] = pd.to_datetime(order_items['shipping_limit_date'])"
      ]
    },
    {
      "cell_type": "code",
      "execution_count": 33,
      "metadata": {},
      "outputs": [
        {
          "name": "stdout",
          "output_type": "stream",
          "text": [
            "<class 'pandas.core.frame.DataFrame'>\n",
            "RangeIndex: 112650 entries, 0 to 112649\n",
            "Data columns (total 7 columns):\n",
            " #   Column               Non-Null Count   Dtype         \n",
            "---  ------               --------------   -----         \n",
            " 0   order_id             112650 non-null  object        \n",
            " 1   order_item_id        112650 non-null  int64         \n",
            " 2   product_id           112650 non-null  object        \n",
            " 3   seller_id            112650 non-null  object        \n",
            " 4   shipping_limit_date  112650 non-null  datetime64[ns]\n",
            " 5   price                112650 non-null  float64       \n",
            " 6   freight_value        112650 non-null  float64       \n",
            "dtypes: datetime64[ns](1), float64(2), int64(1), object(3)\n",
            "memory usage: 6.0+ MB\n"
          ]
        }
      ],
      "source": [
        "order_items.info()"
      ]
    },
    {
      "cell_type": "markdown",
      "metadata": {
        "id": "Q_5ejIqckiSP"
      },
      "source": [
        "**Insight:**\n",
        "Melakukan penyesuaian terhadapt Tipe Data objek pada kolom dengan indikasi 'Date' menjadi tipe data \"datetime\""
      ]
    },
    {
      "cell_type": "markdown",
      "metadata": {},
      "source": [
        "#### Customer_Reviews Formating"
      ]
    },
    {
      "cell_type": "code",
      "execution_count": 34,
      "metadata": {},
      "outputs": [],
      "source": [
        "customer_reviews['review_creation_date'] = pd.to_datetime(customer_reviews['review_creation_date'])\n",
        "customer_reviews['review_answer_timestamp'] = pd.to_datetime(customer_reviews['review_answer_timestamp'])"
      ]
    },
    {
      "cell_type": "code",
      "execution_count": 35,
      "metadata": {},
      "outputs": [
        {
          "name": "stdout",
          "output_type": "stream",
          "text": [
            "<class 'pandas.core.frame.DataFrame'>\n",
            "RangeIndex: 99224 entries, 0 to 99223\n",
            "Data columns (total 7 columns):\n",
            " #   Column                   Non-Null Count  Dtype         \n",
            "---  ------                   --------------  -----         \n",
            " 0   review_id                99224 non-null  object        \n",
            " 1   order_id                 99224 non-null  object        \n",
            " 2   review_score             99224 non-null  int64         \n",
            " 3   review_comment_title     11568 non-null  object        \n",
            " 4   review_comment_message   40977 non-null  object        \n",
            " 5   review_creation_date     99224 non-null  datetime64[ns]\n",
            " 6   review_answer_timestamp  99224 non-null  datetime64[ns]\n",
            "dtypes: datetime64[ns](2), int64(1), object(4)\n",
            "memory usage: 5.3+ MB\n"
          ]
        }
      ],
      "source": [
        "customer_reviews.info()"
      ]
    },
    {
      "cell_type": "markdown",
      "metadata": {},
      "source": [
        "**Insight:**\n",
        "Melakukan penyesuaian terhadapt Tipe Data objek pada kolom dengan indikasi 'Date' menjadi tipe data \"datetime\""
      ]
    },
    {
      "cell_type": "markdown",
      "metadata": {},
      "source": [
        "#### Deleting All Missing Values in All Datasets"
      ]
    },
    {
      "cell_type": "code",
      "execution_count": 36,
      "metadata": {},
      "outputs": [
        {
          "name": "stdout",
          "output_type": "stream",
          "text": [
            "orders DataFrame:\n",
            "                           order_id                       customer_id  \\\n",
            "0  e481f51cbdc54678b7cc49136f2d6af7  9ef432eb6251297304e76186b10a928d   \n",
            "1  53cdb2fc8bc7dce0b6741e2150273451  b0830fb4747a6c6d20dea0b8c802d7ef   \n",
            "2  47770eb9100c2d0c44946d9cf07ec65d  41ce2a54c0b03bf3443c3d931a367089   \n",
            "3  949d5b44dbf5de918fe9c16f97b45f8a  f88197465ea7920adcdbec7375364d82   \n",
            "4  ad21c59c0840e6cb83a9ceb5573f8159  8ab97904e6daea8866dbdbc4fb7aad2c   \n",
            "\n",
            "  order_status order_purchase_timestamp   order_approved_at  \\\n",
            "0    delivered      2017-10-02 10:56:33 2017-10-02 11:07:15   \n",
            "1    delivered      2018-07-24 20:41:37 2018-07-26 03:24:27   \n",
            "2    delivered      2018-08-08 08:38:49 2018-08-08 08:55:23   \n",
            "3    delivered      2017-11-18 19:28:06 2017-11-18 19:45:59   \n",
            "4    delivered      2018-02-13 21:18:39 2018-02-13 22:20:29   \n",
            "\n",
            "  order_delivered_carrier_date order_delivered_customer_date  \\\n",
            "0          2017-10-04 19:55:00           2017-10-10 21:25:13   \n",
            "1          2018-07-26 14:31:00           2018-08-07 15:27:45   \n",
            "2          2018-08-08 13:50:00           2018-08-17 18:06:29   \n",
            "3          2017-11-22 13:39:59           2017-12-02 00:28:42   \n",
            "4          2018-02-14 19:46:34           2018-02-16 18:17:02   \n",
            "\n",
            "  order_estimated_delivery_date  \n",
            "0                    2017-10-18  \n",
            "1                    2018-08-13  \n",
            "2                    2018-09-04  \n",
            "3                    2017-12-15  \n",
            "4                    2018-02-26   \n",
            "\n",
            "products DataFrame:\n",
            "                         product_id  product_category_name  \\\n",
            "0  1e9e8ef04dbcff4541ed26657ea517e5             perfumaria   \n",
            "1  3aa071139cb16b67ca9e5dea641aaa2f                  artes   \n",
            "2  96bd76ec8810374ed1b65e291975717f          esporte_lazer   \n",
            "3  cef67bcfe19066a932b7673e239eb23d                  bebes   \n",
            "4  9dc1a7de274444849c219cff195d0b71  utilidades_domesticas   \n",
            "\n",
            "   product_name_lenght  product_description_lenght  product_photos_qty  \\\n",
            "0                 40.0                       287.0                 1.0   \n",
            "1                 44.0                       276.0                 1.0   \n",
            "2                 46.0                       250.0                 1.0   \n",
            "3                 27.0                       261.0                 1.0   \n",
            "4                 37.0                       402.0                 4.0   \n",
            "\n",
            "   product_weight_g  product_length_cm  product_height_cm  product_width_cm  \n",
            "0             225.0               16.0               10.0              14.0  \n",
            "1            1000.0               30.0               18.0              20.0  \n",
            "2             154.0               18.0                9.0              15.0  \n",
            "3             371.0               26.0                4.0              26.0  \n",
            "4             625.0               20.0               17.0              13.0   \n",
            "\n",
            "sellers DataFrame:\n",
            "                          seller_id  seller_zip_code_prefix  \\\n",
            "0  3442f8959a84dea7ee197c632cb2df15                   13023   \n",
            "1  d1b65fc7debc3361ea86b5f14c68d2e2                   13844   \n",
            "2  ce3ad9de960102d0677a81f5d0bb7b2d                   20031   \n",
            "3  c0f3eea2e14555b6faeea3dd58c1b1c3                    4195   \n",
            "4  51a04a8a6bdcb23deccc82b0b80742cf                   12914   \n",
            "\n",
            "         seller_city seller_state  \n",
            "0           campinas           SP  \n",
            "1         mogi guacu           SP  \n",
            "2     rio de janeiro           RJ  \n",
            "3          sao paulo           SP  \n",
            "4  braganca paulista           SP   \n",
            "\n",
            "category_translation DataFrame:\n",
            "    product_category_name product_category_name_english\n",
            "0            beleza_saude                 health_beauty\n",
            "1  informatica_acessorios         computers_accessories\n",
            "2              automotivo                          auto\n",
            "3         cama_mesa_banho                bed_bath_table\n",
            "4        moveis_decoracao               furniture_decor \n",
            "\n",
            "order_items DataFrame:\n",
            "                           order_id  order_item_id  \\\n",
            "0  00010242fe8c5a6d1ba2dd792cb16214              1   \n",
            "1  00018f77f2f0320c557190d7a144bdd3              1   \n",
            "2  000229ec398224ef6ca0657da4fc703e              1   \n",
            "3  00024acbcdf0a6daa1e931b038114c75              1   \n",
            "4  00042b26cf59d7ce69dfabb4e55b4fd9              1   \n",
            "\n",
            "                         product_id                         seller_id  \\\n",
            "0  4244733e06e7ecb4970a6e2683c13e61  48436dade18ac8b2bce089ec2a041202   \n",
            "1  e5f2d52b802189ee658865ca93d83a8f  dd7ddc04e1b6c2c614352b383efe2d36   \n",
            "2  c777355d18b72b67abbeef9df44fd0fd  5b51032eddd242adc84c38acab88f23d   \n",
            "3  7634da152a4610f1595efa32f14722fc  9d7a1d34a5052409006425275ba1c2b4   \n",
            "4  ac6c3623068f30de03045865e4e10089  df560393f3a51e74553ab94004ba5c87   \n",
            "\n",
            "  shipping_limit_date   price  freight_value  \n",
            "0 2017-09-19 09:45:35   58.90          13.29  \n",
            "1 2017-05-03 11:05:13  239.90          19.93  \n",
            "2 2018-01-18 14:48:30  199.00          17.87  \n",
            "3 2018-08-15 10:10:18   12.99          12.79  \n",
            "4 2017-02-13 13:57:51  199.90          18.14   \n",
            "\n",
            "customer_reviews DataFrame:\n",
            "                          review_id                          order_id  \\\n",
            "0  7bc2406110b926393aa56f80a40eba40  73fc7af87114b39712e6da79b0a377eb   \n",
            "1  80e641a11e56f04c1ad469d5645fdfde  a548910a1c6147796b98fdf73dbeba33   \n",
            "2  228ce5500dc1d8e020d8d1322874b6f0  f9e4b658b201a9f2ecdecbb34bed034b   \n",
            "3  e64fb393e7b32834bb789ff8bb30750e  658677c97b385a9be170737859d3511b   \n",
            "4  f7c4243c7fe1938f181bec41a392bdeb  8e6bfb81e283fa7e4f11123a3fb894f1   \n",
            "\n",
            "   review_score review_comment_title  \\\n",
            "0             4                  NaN   \n",
            "1             5                  NaN   \n",
            "2             5                  NaN   \n",
            "3             5                  NaN   \n",
            "4             5                  NaN   \n",
            "\n",
            "                              review_comment_message review_creation_date  \\\n",
            "0                                                NaN           2018-01-18   \n",
            "1                                                NaN           2018-03-10   \n",
            "2                                                NaN           2018-02-17   \n",
            "3              Recebi bem antes do prazo estipulado.           2017-04-21   \n",
            "4  Parabéns lojas lannister adorei comprar pela I...           2018-03-01   \n",
            "\n",
            "  review_answer_timestamp  \n",
            "0     2018-01-18 21:46:59  \n",
            "1     2018-03-11 03:05:13  \n",
            "2     2018-02-18 14:36:24  \n",
            "3     2017-04-21 22:02:06  \n",
            "4     2018-03-02 10:26:53   \n",
            "\n",
            "Missing Values:\n",
            " {'orders': order_id                            0\n",
            "customer_id                         0\n",
            "order_status                        0\n",
            "order_purchase_timestamp            0\n",
            "order_approved_at                 160\n",
            "order_delivered_carrier_date     1783\n",
            "order_delivered_customer_date    2965\n",
            "order_estimated_delivery_date       0\n",
            "dtype: int64, 'products': product_id                      0\n",
            "product_category_name           0\n",
            "product_name_lenght           610\n",
            "product_description_lenght    610\n",
            "product_photos_qty            610\n",
            "product_weight_g                2\n",
            "product_length_cm               2\n",
            "product_height_cm               2\n",
            "product_width_cm                2\n",
            "dtype: int64, 'sellers': seller_id                 0\n",
            "seller_zip_code_prefix    0\n",
            "seller_city               0\n",
            "seller_state              0\n",
            "dtype: int64, 'category_translation': product_category_name            0\n",
            "product_category_name_english    0\n",
            "dtype: int64, 'order_items': order_id               0\n",
            "order_item_id          0\n",
            "product_id             0\n",
            "seller_id              0\n",
            "shipping_limit_date    0\n",
            "price                  0\n",
            "freight_value          0\n",
            "dtype: int64, 'customer_reviews': review_id                      0\n",
            "order_id                       0\n",
            "review_score                   0\n",
            "review_comment_title       87656\n",
            "review_comment_message     58247\n",
            "review_creation_date           0\n",
            "review_answer_timestamp        0\n",
            "dtype: int64}\n"
          ]
        }
      ],
      "source": [
        "# List of dataframes and their corresponding names\n",
        "dataframes = {\n",
        "    'orders': orders,\n",
        "    'products': products,\n",
        "    'sellers': sellers,\n",
        "    'category_translation': category_translation,\n",
        "    'order_items': order_items,\n",
        "    'customer_reviews': customer_reviews\n",
        "}\n",
        "\n",
        "# Display the first few rows of each dataframe\n",
        "for name, df in dataframes.items():\n",
        "    print(f\"{name} DataFrame:\")\n",
        "    print(df.head(), \"\\n\")\n",
        "\n",
        "# Check for missing values in all datasets\n",
        "missing_values = {name: df.isnull().sum() for name, df in dataframes.items()}\n",
        "print(\"Missing Values:\\n\", missing_values)\n"
      ]
    },
    {
      "cell_type": "markdown",
      "metadata": {
        "id": "gp-Y6wU38DC1"
      },
      "source": [
        "## Exploratory Data Analysis (EDA)"
      ]
    },
    {
      "cell_type": "markdown",
      "metadata": {
        "id": "MW7WF2kr8DC1"
      },
      "source": [
        "### Explore Product and Orders Merged"
      ]
    },
    {
      "cell_type": "code",
      "execution_count": 37,
      "metadata": {},
      "outputs": [],
      "source": [
        "merged_data = pd.merge(order_items, products, on='product_id')\n",
        "merged_data = pd.merge(merged_data, orders, on='order_id')"
      ]
    },
    {
      "cell_type": "markdown",
      "metadata": {
        "id": "th_Lzl2Fkj9O"
      },
      "source": [
        "**Insight:**\n",
        "Melakukan merging antara product dan order untuk dianalisis bersamaan"
      ]
    },
    {
      "cell_type": "markdown",
      "metadata": {
        "id": "zsyZjqak8DC2"
      },
      "source": [
        "## Visualization & Explanatory Analysis"
      ]
    },
    {
      "cell_type": "markdown",
      "metadata": {},
      "source": [
        "#### Data After Merged"
      ]
    },
    {
      "cell_type": "code",
      "execution_count": 38,
      "metadata": {},
      "outputs": [
        {
          "data": {
            "text/html": [
              "<style type=\"text/css\">\n",
              "#T_72204_row0_col1, #T_72204_row0_col6, #T_72204_row0_col9, #T_72204_row0_col10, #T_72204_row0_col12, #T_72204_row0_col13, #T_72204_row0_col14, #T_72204_row1_col1, #T_72204_row1_col5, #T_72204_row1_col9, #T_72204_row1_col10, #T_72204_row1_col12, #T_72204_row1_col13, #T_72204_row1_col14, #T_72204_row2_col1, #T_72204_row2_col9, #T_72204_row2_col10, #T_72204_row2_col12, #T_72204_row2_col13, #T_72204_row2_col14, #T_72204_row3_col1, #T_72204_row3_col9, #T_72204_row3_col10, #T_72204_row3_col12, #T_72204_row3_col13, #T_72204_row3_col14, #T_72204_row4_col1, #T_72204_row4_col6, #T_72204_row4_col9, #T_72204_row4_col10, #T_72204_row4_col12, #T_72204_row4_col13, #T_72204_row4_col14, #T_72204_row5_col1, #T_72204_row5_col5, #T_72204_row5_col9, #T_72204_row5_col10, #T_72204_row5_col12, #T_72204_row5_col13, #T_72204_row5_col14, #T_72204_row6_col1, #T_72204_row6_col9, #T_72204_row6_col10, #T_72204_row6_col12, #T_72204_row6_col13, #T_72204_row6_col14, #T_72204_row7_col9, #T_72204_row7_col10, #T_72204_row7_col12, #T_72204_row7_col13, #T_72204_row7_col14, #T_72204_row8_col1, #T_72204_row8_col8, #T_72204_row8_col11, #T_72204_row8_col13, #T_72204_row8_col14, #T_72204_row9_col1, #T_72204_row9_col5, #T_72204_row9_col9, #T_72204_row9_col10, #T_72204_row9_col12, #T_72204_row9_col13, #T_72204_row9_col14 {\n",
              "  background-color: #0b0405;\n",
              "  color: #f1f1f1;\n",
              "}\n",
              "#T_72204_row0_col5, #T_72204_row3_col5, #T_72204_row4_col5, #T_72204_row7_col5, #T_72204_row8_col5 {\n",
              "  background-color: #40498e;\n",
              "  color: #f1f1f1;\n",
              "}\n",
              "#T_72204_row0_col8, #T_72204_row0_col11, #T_72204_row1_col8, #T_72204_row1_col11, #T_72204_row2_col5, #T_72204_row2_col8, #T_72204_row2_col11, #T_72204_row3_col8, #T_72204_row3_col11, #T_72204_row4_col8, #T_72204_row4_col11, #T_72204_row5_col8, #T_72204_row5_col11, #T_72204_row6_col5, #T_72204_row6_col6, #T_72204_row6_col8, #T_72204_row6_col11, #T_72204_row7_col1, #T_72204_row7_col8, #T_72204_row7_col11, #T_72204_row8_col9, #T_72204_row8_col10, #T_72204_row8_col12, #T_72204_row9_col8, #T_72204_row9_col11 {\n",
              "  background-color: #def5e5;\n",
              "  color: #000000;\n",
              "}\n",
              "#T_72204_row1_col6 {\n",
              "  background-color: #36274d;\n",
              "  color: #f1f1f1;\n",
              "}\n",
              "#T_72204_row2_col6 {\n",
              "  background-color: #382a54;\n",
              "  color: #f1f1f1;\n",
              "}\n",
              "#T_72204_row3_col6 {\n",
              "  background-color: #291930;\n",
              "  color: #f1f1f1;\n",
              "}\n",
              "#T_72204_row5_col6 {\n",
              "  background-color: #3486a5;\n",
              "  color: #f1f1f1;\n",
              "}\n",
              "#T_72204_row7_col6 {\n",
              "  background-color: #372851;\n",
              "  color: #f1f1f1;\n",
              "}\n",
              "#T_72204_row8_col6 {\n",
              "  background-color: #35264c;\n",
              "  color: #f1f1f1;\n",
              "}\n",
              "#T_72204_row9_col6 {\n",
              "  background-color: #a1dfb9;\n",
              "  color: #000000;\n",
              "}\n",
              "</style>\n",
              "<table id=\"T_72204\">\n",
              "  <thead>\n",
              "    <tr>\n",
              "      <th class=\"blank level0\" >&nbsp;</th>\n",
              "      <th id=\"T_72204_level0_col0\" class=\"col_heading level0 col0\" >order_id</th>\n",
              "      <th id=\"T_72204_level0_col1\" class=\"col_heading level0 col1\" >order_item_id</th>\n",
              "      <th id=\"T_72204_level0_col2\" class=\"col_heading level0 col2\" >product_id</th>\n",
              "      <th id=\"T_72204_level0_col3\" class=\"col_heading level0 col3\" >seller_id</th>\n",
              "      <th id=\"T_72204_level0_col4\" class=\"col_heading level0 col4\" >shipping_limit_date</th>\n",
              "      <th id=\"T_72204_level0_col5\" class=\"col_heading level0 col5\" >price</th>\n",
              "      <th id=\"T_72204_level0_col6\" class=\"col_heading level0 col6\" >freight_value</th>\n",
              "      <th id=\"T_72204_level0_col7\" class=\"col_heading level0 col7\" >product_category_name</th>\n",
              "      <th id=\"T_72204_level0_col8\" class=\"col_heading level0 col8\" >product_name_lenght</th>\n",
              "      <th id=\"T_72204_level0_col9\" class=\"col_heading level0 col9\" >product_description_lenght</th>\n",
              "      <th id=\"T_72204_level0_col10\" class=\"col_heading level0 col10\" >product_photos_qty</th>\n",
              "      <th id=\"T_72204_level0_col11\" class=\"col_heading level0 col11\" >product_weight_g</th>\n",
              "      <th id=\"T_72204_level0_col12\" class=\"col_heading level0 col12\" >product_length_cm</th>\n",
              "      <th id=\"T_72204_level0_col13\" class=\"col_heading level0 col13\" >product_height_cm</th>\n",
              "      <th id=\"T_72204_level0_col14\" class=\"col_heading level0 col14\" >product_width_cm</th>\n",
              "      <th id=\"T_72204_level0_col15\" class=\"col_heading level0 col15\" >customer_id</th>\n",
              "      <th id=\"T_72204_level0_col16\" class=\"col_heading level0 col16\" >order_status</th>\n",
              "      <th id=\"T_72204_level0_col17\" class=\"col_heading level0 col17\" >order_purchase_timestamp</th>\n",
              "      <th id=\"T_72204_level0_col18\" class=\"col_heading level0 col18\" >order_approved_at</th>\n",
              "      <th id=\"T_72204_level0_col19\" class=\"col_heading level0 col19\" >order_delivered_carrier_date</th>\n",
              "      <th id=\"T_72204_level0_col20\" class=\"col_heading level0 col20\" >order_delivered_customer_date</th>\n",
              "      <th id=\"T_72204_level0_col21\" class=\"col_heading level0 col21\" >order_estimated_delivery_date</th>\n",
              "    </tr>\n",
              "  </thead>\n",
              "  <tbody>\n",
              "    <tr>\n",
              "      <th id=\"T_72204_level0_row0\" class=\"row_heading level0 row0\" >0</th>\n",
              "      <td id=\"T_72204_row0_col0\" class=\"data row0 col0\" >00010242fe8c5a6d1ba2dd792cb16214</td>\n",
              "      <td id=\"T_72204_row0_col1\" class=\"data row0 col1\" >1</td>\n",
              "      <td id=\"T_72204_row0_col2\" class=\"data row0 col2\" >4244733e06e7ecb4970a6e2683c13e61</td>\n",
              "      <td id=\"T_72204_row0_col3\" class=\"data row0 col3\" >48436dade18ac8b2bce089ec2a041202</td>\n",
              "      <td id=\"T_72204_row0_col4\" class=\"data row0 col4\" >2017-09-19 09:45:35</td>\n",
              "      <td id=\"T_72204_row0_col5\" class=\"data row0 col5\" >58.900000</td>\n",
              "      <td id=\"T_72204_row0_col6\" class=\"data row0 col6\" >13.290000</td>\n",
              "      <td id=\"T_72204_row0_col7\" class=\"data row0 col7\" >cool_stuff</td>\n",
              "      <td id=\"T_72204_row0_col8\" class=\"data row0 col8\" >58.000000</td>\n",
              "      <td id=\"T_72204_row0_col9\" class=\"data row0 col9\" >598.000000</td>\n",
              "      <td id=\"T_72204_row0_col10\" class=\"data row0 col10\" >4.000000</td>\n",
              "      <td id=\"T_72204_row0_col11\" class=\"data row0 col11\" >650.000000</td>\n",
              "      <td id=\"T_72204_row0_col12\" class=\"data row0 col12\" >28.000000</td>\n",
              "      <td id=\"T_72204_row0_col13\" class=\"data row0 col13\" >9.000000</td>\n",
              "      <td id=\"T_72204_row0_col14\" class=\"data row0 col14\" >14.000000</td>\n",
              "      <td id=\"T_72204_row0_col15\" class=\"data row0 col15\" >3ce436f183e68e07877b285a838db11a</td>\n",
              "      <td id=\"T_72204_row0_col16\" class=\"data row0 col16\" >delivered</td>\n",
              "      <td id=\"T_72204_row0_col17\" class=\"data row0 col17\" >2017-09-13 08:59:02</td>\n",
              "      <td id=\"T_72204_row0_col18\" class=\"data row0 col18\" >2017-09-13 09:45:35</td>\n",
              "      <td id=\"T_72204_row0_col19\" class=\"data row0 col19\" >2017-09-19 18:34:16</td>\n",
              "      <td id=\"T_72204_row0_col20\" class=\"data row0 col20\" >2017-09-20 23:43:48</td>\n",
              "      <td id=\"T_72204_row0_col21\" class=\"data row0 col21\" >2017-09-29 00:00:00</td>\n",
              "    </tr>\n",
              "    <tr>\n",
              "      <th id=\"T_72204_level0_row1\" class=\"row_heading level0 row1\" >1</th>\n",
              "      <td id=\"T_72204_row1_col0\" class=\"data row1 col0\" >130898c0987d1801452a8ed92a670612</td>\n",
              "      <td id=\"T_72204_row1_col1\" class=\"data row1 col1\" >1</td>\n",
              "      <td id=\"T_72204_row1_col2\" class=\"data row1 col2\" >4244733e06e7ecb4970a6e2683c13e61</td>\n",
              "      <td id=\"T_72204_row1_col3\" class=\"data row1 col3\" >48436dade18ac8b2bce089ec2a041202</td>\n",
              "      <td id=\"T_72204_row1_col4\" class=\"data row1 col4\" >2017-07-05 02:44:11</td>\n",
              "      <td id=\"T_72204_row1_col5\" class=\"data row1 col5\" >55.900000</td>\n",
              "      <td id=\"T_72204_row1_col6\" class=\"data row1 col6\" >17.960000</td>\n",
              "      <td id=\"T_72204_row1_col7\" class=\"data row1 col7\" >cool_stuff</td>\n",
              "      <td id=\"T_72204_row1_col8\" class=\"data row1 col8\" >58.000000</td>\n",
              "      <td id=\"T_72204_row1_col9\" class=\"data row1 col9\" >598.000000</td>\n",
              "      <td id=\"T_72204_row1_col10\" class=\"data row1 col10\" >4.000000</td>\n",
              "      <td id=\"T_72204_row1_col11\" class=\"data row1 col11\" >650.000000</td>\n",
              "      <td id=\"T_72204_row1_col12\" class=\"data row1 col12\" >28.000000</td>\n",
              "      <td id=\"T_72204_row1_col13\" class=\"data row1 col13\" >9.000000</td>\n",
              "      <td id=\"T_72204_row1_col14\" class=\"data row1 col14\" >14.000000</td>\n",
              "      <td id=\"T_72204_row1_col15\" class=\"data row1 col15\" >e6eecc5a77de221464d1c4eaff0a9b64</td>\n",
              "      <td id=\"T_72204_row1_col16\" class=\"data row1 col16\" >delivered</td>\n",
              "      <td id=\"T_72204_row1_col17\" class=\"data row1 col17\" >2017-06-28 11:52:20</td>\n",
              "      <td id=\"T_72204_row1_col18\" class=\"data row1 col18\" >2017-06-29 02:44:11</td>\n",
              "      <td id=\"T_72204_row1_col19\" class=\"data row1 col19\" >2017-07-05 12:00:33</td>\n",
              "      <td id=\"T_72204_row1_col20\" class=\"data row1 col20\" >2017-07-13 20:39:29</td>\n",
              "      <td id=\"T_72204_row1_col21\" class=\"data row1 col21\" >2017-07-26 00:00:00</td>\n",
              "    </tr>\n",
              "    <tr>\n",
              "      <th id=\"T_72204_level0_row2\" class=\"row_heading level0 row2\" >2</th>\n",
              "      <td id=\"T_72204_row2_col0\" class=\"data row2 col0\" >532ed5e14e24ae1f0d735b91524b98b9</td>\n",
              "      <td id=\"T_72204_row2_col1\" class=\"data row2 col1\" >1</td>\n",
              "      <td id=\"T_72204_row2_col2\" class=\"data row2 col2\" >4244733e06e7ecb4970a6e2683c13e61</td>\n",
              "      <td id=\"T_72204_row2_col3\" class=\"data row2 col3\" >48436dade18ac8b2bce089ec2a041202</td>\n",
              "      <td id=\"T_72204_row2_col4\" class=\"data row2 col4\" >2018-05-23 10:56:25</td>\n",
              "      <td id=\"T_72204_row2_col5\" class=\"data row2 col5\" >64.900000</td>\n",
              "      <td id=\"T_72204_row2_col6\" class=\"data row2 col6\" >18.330000</td>\n",
              "      <td id=\"T_72204_row2_col7\" class=\"data row2 col7\" >cool_stuff</td>\n",
              "      <td id=\"T_72204_row2_col8\" class=\"data row2 col8\" >58.000000</td>\n",
              "      <td id=\"T_72204_row2_col9\" class=\"data row2 col9\" >598.000000</td>\n",
              "      <td id=\"T_72204_row2_col10\" class=\"data row2 col10\" >4.000000</td>\n",
              "      <td id=\"T_72204_row2_col11\" class=\"data row2 col11\" >650.000000</td>\n",
              "      <td id=\"T_72204_row2_col12\" class=\"data row2 col12\" >28.000000</td>\n",
              "      <td id=\"T_72204_row2_col13\" class=\"data row2 col13\" >9.000000</td>\n",
              "      <td id=\"T_72204_row2_col14\" class=\"data row2 col14\" >14.000000</td>\n",
              "      <td id=\"T_72204_row2_col15\" class=\"data row2 col15\" >4ef55bf80f711b372afebcb7c715344a</td>\n",
              "      <td id=\"T_72204_row2_col16\" class=\"data row2 col16\" >delivered</td>\n",
              "      <td id=\"T_72204_row2_col17\" class=\"data row2 col17\" >2018-05-18 10:25:53</td>\n",
              "      <td id=\"T_72204_row2_col18\" class=\"data row2 col18\" >2018-05-18 12:31:43</td>\n",
              "      <td id=\"T_72204_row2_col19\" class=\"data row2 col19\" >2018-05-23 14:05:00</td>\n",
              "      <td id=\"T_72204_row2_col20\" class=\"data row2 col20\" >2018-06-04 18:34:26</td>\n",
              "      <td id=\"T_72204_row2_col21\" class=\"data row2 col21\" >2018-06-07 00:00:00</td>\n",
              "    </tr>\n",
              "    <tr>\n",
              "      <th id=\"T_72204_level0_row3\" class=\"row_heading level0 row3\" >3</th>\n",
              "      <td id=\"T_72204_row3_col0\" class=\"data row3 col0\" >6f8c31653edb8c83e1a739408b5ff750</td>\n",
              "      <td id=\"T_72204_row3_col1\" class=\"data row3 col1\" >1</td>\n",
              "      <td id=\"T_72204_row3_col2\" class=\"data row3 col2\" >4244733e06e7ecb4970a6e2683c13e61</td>\n",
              "      <td id=\"T_72204_row3_col3\" class=\"data row3 col3\" >48436dade18ac8b2bce089ec2a041202</td>\n",
              "      <td id=\"T_72204_row3_col4\" class=\"data row3 col4\" >2017-08-07 18:55:08</td>\n",
              "      <td id=\"T_72204_row3_col5\" class=\"data row3 col5\" >58.900000</td>\n",
              "      <td id=\"T_72204_row3_col6\" class=\"data row3 col6\" >16.170000</td>\n",
              "      <td id=\"T_72204_row3_col7\" class=\"data row3 col7\" >cool_stuff</td>\n",
              "      <td id=\"T_72204_row3_col8\" class=\"data row3 col8\" >58.000000</td>\n",
              "      <td id=\"T_72204_row3_col9\" class=\"data row3 col9\" >598.000000</td>\n",
              "      <td id=\"T_72204_row3_col10\" class=\"data row3 col10\" >4.000000</td>\n",
              "      <td id=\"T_72204_row3_col11\" class=\"data row3 col11\" >650.000000</td>\n",
              "      <td id=\"T_72204_row3_col12\" class=\"data row3 col12\" >28.000000</td>\n",
              "      <td id=\"T_72204_row3_col13\" class=\"data row3 col13\" >9.000000</td>\n",
              "      <td id=\"T_72204_row3_col14\" class=\"data row3 col14\" >14.000000</td>\n",
              "      <td id=\"T_72204_row3_col15\" class=\"data row3 col15\" >30407a72ad8b3f4df4d15369126b20c9</td>\n",
              "      <td id=\"T_72204_row3_col16\" class=\"data row3 col16\" >delivered</td>\n",
              "      <td id=\"T_72204_row3_col17\" class=\"data row3 col17\" >2017-08-01 18:38:42</td>\n",
              "      <td id=\"T_72204_row3_col18\" class=\"data row3 col18\" >2017-08-01 18:55:08</td>\n",
              "      <td id=\"T_72204_row3_col19\" class=\"data row3 col19\" >2017-08-02 19:07:36</td>\n",
              "      <td id=\"T_72204_row3_col20\" class=\"data row3 col20\" >2017-08-09 21:26:33</td>\n",
              "      <td id=\"T_72204_row3_col21\" class=\"data row3 col21\" >2017-08-25 00:00:00</td>\n",
              "    </tr>\n",
              "    <tr>\n",
              "      <th id=\"T_72204_level0_row4\" class=\"row_heading level0 row4\" >4</th>\n",
              "      <td id=\"T_72204_row4_col0\" class=\"data row4 col0\" >7d19f4ef4d04461989632411b7e588b9</td>\n",
              "      <td id=\"T_72204_row4_col1\" class=\"data row4 col1\" >1</td>\n",
              "      <td id=\"T_72204_row4_col2\" class=\"data row4 col2\" >4244733e06e7ecb4970a6e2683c13e61</td>\n",
              "      <td id=\"T_72204_row4_col3\" class=\"data row4 col3\" >48436dade18ac8b2bce089ec2a041202</td>\n",
              "      <td id=\"T_72204_row4_col4\" class=\"data row4 col4\" >2017-08-16 22:05:11</td>\n",
              "      <td id=\"T_72204_row4_col5\" class=\"data row4 col5\" >58.900000</td>\n",
              "      <td id=\"T_72204_row4_col6\" class=\"data row4 col6\" >13.290000</td>\n",
              "      <td id=\"T_72204_row4_col7\" class=\"data row4 col7\" >cool_stuff</td>\n",
              "      <td id=\"T_72204_row4_col8\" class=\"data row4 col8\" >58.000000</td>\n",
              "      <td id=\"T_72204_row4_col9\" class=\"data row4 col9\" >598.000000</td>\n",
              "      <td id=\"T_72204_row4_col10\" class=\"data row4 col10\" >4.000000</td>\n",
              "      <td id=\"T_72204_row4_col11\" class=\"data row4 col11\" >650.000000</td>\n",
              "      <td id=\"T_72204_row4_col12\" class=\"data row4 col12\" >28.000000</td>\n",
              "      <td id=\"T_72204_row4_col13\" class=\"data row4 col13\" >9.000000</td>\n",
              "      <td id=\"T_72204_row4_col14\" class=\"data row4 col14\" >14.000000</td>\n",
              "      <td id=\"T_72204_row4_col15\" class=\"data row4 col15\" >91a792fef70ecd8cc69d3c7feb3d12da</td>\n",
              "      <td id=\"T_72204_row4_col16\" class=\"data row4 col16\" >delivered</td>\n",
              "      <td id=\"T_72204_row4_col17\" class=\"data row4 col17\" >2017-08-10 21:48:40</td>\n",
              "      <td id=\"T_72204_row4_col18\" class=\"data row4 col18\" >2017-08-10 22:05:11</td>\n",
              "      <td id=\"T_72204_row4_col19\" class=\"data row4 col19\" >2017-08-11 19:43:07</td>\n",
              "      <td id=\"T_72204_row4_col20\" class=\"data row4 col20\" >2017-08-24 20:04:21</td>\n",
              "      <td id=\"T_72204_row4_col21\" class=\"data row4 col21\" >2017-09-01 00:00:00</td>\n",
              "    </tr>\n",
              "    <tr>\n",
              "      <th id=\"T_72204_level0_row5\" class=\"row_heading level0 row5\" >5</th>\n",
              "      <td id=\"T_72204_row5_col0\" class=\"data row5 col0\" >a0f9acf0b6294ed8561e32cde1a966bc</td>\n",
              "      <td id=\"T_72204_row5_col1\" class=\"data row5 col1\" >1</td>\n",
              "      <td id=\"T_72204_row5_col2\" class=\"data row5 col2\" >4244733e06e7ecb4970a6e2683c13e61</td>\n",
              "      <td id=\"T_72204_row5_col3\" class=\"data row5 col3\" >48436dade18ac8b2bce089ec2a041202</td>\n",
              "      <td id=\"T_72204_row5_col4\" class=\"data row5 col4\" >2017-08-03 15:23:46</td>\n",
              "      <td id=\"T_72204_row5_col5\" class=\"data row5 col5\" >55.900000</td>\n",
              "      <td id=\"T_72204_row5_col6\" class=\"data row5 col6\" >26.930000</td>\n",
              "      <td id=\"T_72204_row5_col7\" class=\"data row5 col7\" >cool_stuff</td>\n",
              "      <td id=\"T_72204_row5_col8\" class=\"data row5 col8\" >58.000000</td>\n",
              "      <td id=\"T_72204_row5_col9\" class=\"data row5 col9\" >598.000000</td>\n",
              "      <td id=\"T_72204_row5_col10\" class=\"data row5 col10\" >4.000000</td>\n",
              "      <td id=\"T_72204_row5_col11\" class=\"data row5 col11\" >650.000000</td>\n",
              "      <td id=\"T_72204_row5_col12\" class=\"data row5 col12\" >28.000000</td>\n",
              "      <td id=\"T_72204_row5_col13\" class=\"data row5 col13\" >9.000000</td>\n",
              "      <td id=\"T_72204_row5_col14\" class=\"data row5 col14\" >14.000000</td>\n",
              "      <td id=\"T_72204_row5_col15\" class=\"data row5 col15\" >4851b3bca4a48b395dfad7aa57c3f72a</td>\n",
              "      <td id=\"T_72204_row5_col16\" class=\"data row5 col16\" >delivered</td>\n",
              "      <td id=\"T_72204_row5_col17\" class=\"data row5 col17\" >2017-07-27 15:11:51</td>\n",
              "      <td id=\"T_72204_row5_col18\" class=\"data row5 col18\" >2017-07-28 15:23:46</td>\n",
              "      <td id=\"T_72204_row5_col19\" class=\"data row5 col19\" >2017-08-02 18:32:34</td>\n",
              "      <td id=\"T_72204_row5_col20\" class=\"data row5 col20\" >2017-08-31 20:19:52</td>\n",
              "      <td id=\"T_72204_row5_col21\" class=\"data row5 col21\" >2017-08-24 00:00:00</td>\n",
              "    </tr>\n",
              "    <tr>\n",
              "      <th id=\"T_72204_level0_row6\" class=\"row_heading level0 row6\" >6</th>\n",
              "      <td id=\"T_72204_row6_col0\" class=\"data row6 col0\" >bbf796534aaf9c59f8da8c7982db56e0</td>\n",
              "      <td id=\"T_72204_row6_col1\" class=\"data row6 col1\" >1</td>\n",
              "      <td id=\"T_72204_row6_col2\" class=\"data row6 col2\" >4244733e06e7ecb4970a6e2683c13e61</td>\n",
              "      <td id=\"T_72204_row6_col3\" class=\"data row6 col3\" >48436dade18ac8b2bce089ec2a041202</td>\n",
              "      <td id=\"T_72204_row6_col4\" class=\"data row6 col4\" >2018-03-26 03:28:44</td>\n",
              "      <td id=\"T_72204_row6_col5\" class=\"data row6 col5\" >64.900000</td>\n",
              "      <td id=\"T_72204_row6_col6\" class=\"data row6 col6\" >38.500000</td>\n",
              "      <td id=\"T_72204_row6_col7\" class=\"data row6 col7\" >cool_stuff</td>\n",
              "      <td id=\"T_72204_row6_col8\" class=\"data row6 col8\" >58.000000</td>\n",
              "      <td id=\"T_72204_row6_col9\" class=\"data row6 col9\" >598.000000</td>\n",
              "      <td id=\"T_72204_row6_col10\" class=\"data row6 col10\" >4.000000</td>\n",
              "      <td id=\"T_72204_row6_col11\" class=\"data row6 col11\" >650.000000</td>\n",
              "      <td id=\"T_72204_row6_col12\" class=\"data row6 col12\" >28.000000</td>\n",
              "      <td id=\"T_72204_row6_col13\" class=\"data row6 col13\" >9.000000</td>\n",
              "      <td id=\"T_72204_row6_col14\" class=\"data row6 col14\" >14.000000</td>\n",
              "      <td id=\"T_72204_row6_col15\" class=\"data row6 col15\" >c32c207d9ebf75958011557ac1624e2f</td>\n",
              "      <td id=\"T_72204_row6_col16\" class=\"data row6 col16\" >delivered</td>\n",
              "      <td id=\"T_72204_row6_col17\" class=\"data row6 col17\" >2018-03-18 21:00:44</td>\n",
              "      <td id=\"T_72204_row6_col18\" class=\"data row6 col18\" >2018-03-20 03:28:44</td>\n",
              "      <td id=\"T_72204_row6_col19\" class=\"data row6 col19\" >2018-03-20 18:08:45</td>\n",
              "      <td id=\"T_72204_row6_col20\" class=\"data row6 col20\" >2018-03-28 21:57:44</td>\n",
              "      <td id=\"T_72204_row6_col21\" class=\"data row6 col21\" >2018-04-12 00:00:00</td>\n",
              "    </tr>\n",
              "    <tr>\n",
              "      <th id=\"T_72204_level0_row7\" class=\"row_heading level0 row7\" >7</th>\n",
              "      <td id=\"T_72204_row7_col0\" class=\"data row7 col0\" >c9ef97d2854afe64a3b4488bc2836af6</td>\n",
              "      <td id=\"T_72204_row7_col1\" class=\"data row7 col1\" >2</td>\n",
              "      <td id=\"T_72204_row7_col2\" class=\"data row7 col2\" >4244733e06e7ecb4970a6e2683c13e61</td>\n",
              "      <td id=\"T_72204_row7_col3\" class=\"data row7 col3\" >48436dade18ac8b2bce089ec2a041202</td>\n",
              "      <td id=\"T_72204_row7_col4\" class=\"data row7 col4\" >2017-08-14 04:25:34</td>\n",
              "      <td id=\"T_72204_row7_col5\" class=\"data row7 col5\" >58.900000</td>\n",
              "      <td id=\"T_72204_row7_col6\" class=\"data row7 col6\" >18.120000</td>\n",
              "      <td id=\"T_72204_row7_col7\" class=\"data row7 col7\" >cool_stuff</td>\n",
              "      <td id=\"T_72204_row7_col8\" class=\"data row7 col8\" >58.000000</td>\n",
              "      <td id=\"T_72204_row7_col9\" class=\"data row7 col9\" >598.000000</td>\n",
              "      <td id=\"T_72204_row7_col10\" class=\"data row7 col10\" >4.000000</td>\n",
              "      <td id=\"T_72204_row7_col11\" class=\"data row7 col11\" >650.000000</td>\n",
              "      <td id=\"T_72204_row7_col12\" class=\"data row7 col12\" >28.000000</td>\n",
              "      <td id=\"T_72204_row7_col13\" class=\"data row7 col13\" >9.000000</td>\n",
              "      <td id=\"T_72204_row7_col14\" class=\"data row7 col14\" >14.000000</td>\n",
              "      <td id=\"T_72204_row7_col15\" class=\"data row7 col15\" >0a29abf475fb8039d2775913d6f0b6f0</td>\n",
              "      <td id=\"T_72204_row7_col16\" class=\"data row7 col16\" >delivered</td>\n",
              "      <td id=\"T_72204_row7_col17\" class=\"data row7 col17\" >2017-08-05 16:59:05</td>\n",
              "      <td id=\"T_72204_row7_col18\" class=\"data row7 col18\" >2017-08-08 04:25:34</td>\n",
              "      <td id=\"T_72204_row7_col19\" class=\"data row7 col19\" >2017-08-10 16:40:11</td>\n",
              "      <td id=\"T_72204_row7_col20\" class=\"data row7 col20\" >2017-08-14 18:13:03</td>\n",
              "      <td id=\"T_72204_row7_col21\" class=\"data row7 col21\" >2017-09-06 00:00:00</td>\n",
              "    </tr>\n",
              "    <tr>\n",
              "      <th id=\"T_72204_level0_row8\" class=\"row_heading level0 row8\" >8</th>\n",
              "      <td id=\"T_72204_row8_col0\" class=\"data row8 col0\" >c9ef97d2854afe64a3b4488bc2836af6</td>\n",
              "      <td id=\"T_72204_row8_col1\" class=\"data row8 col1\" >1</td>\n",
              "      <td id=\"T_72204_row8_col2\" class=\"data row8 col2\" >436c8d57ff8d4aa254318e9bd9b48c83</td>\n",
              "      <td id=\"T_72204_row8_col3\" class=\"data row8 col3\" >48436dade18ac8b2bce089ec2a041202</td>\n",
              "      <td id=\"T_72204_row8_col4\" class=\"data row8 col4\" >2017-08-14 04:25:34</td>\n",
              "      <td id=\"T_72204_row8_col5\" class=\"data row8 col5\" >58.900000</td>\n",
              "      <td id=\"T_72204_row8_col6\" class=\"data row8 col6\" >17.830000</td>\n",
              "      <td id=\"T_72204_row8_col7\" class=\"data row8 col7\" >cool_stuff</td>\n",
              "      <td id=\"T_72204_row8_col8\" class=\"data row8 col8\" >54.000000</td>\n",
              "      <td id=\"T_72204_row8_col9\" class=\"data row8 col9\" >599.000000</td>\n",
              "      <td id=\"T_72204_row8_col10\" class=\"data row8 col10\" >6.000000</td>\n",
              "      <td id=\"T_72204_row8_col11\" class=\"data row8 col11\" >530.000000</td>\n",
              "      <td id=\"T_72204_row8_col12\" class=\"data row8 col12\" >30.000000</td>\n",
              "      <td id=\"T_72204_row8_col13\" class=\"data row8 col13\" >9.000000</td>\n",
              "      <td id=\"T_72204_row8_col14\" class=\"data row8 col14\" >14.000000</td>\n",
              "      <td id=\"T_72204_row8_col15\" class=\"data row8 col15\" >0a29abf475fb8039d2775913d6f0b6f0</td>\n",
              "      <td id=\"T_72204_row8_col16\" class=\"data row8 col16\" >delivered</td>\n",
              "      <td id=\"T_72204_row8_col17\" class=\"data row8 col17\" >2017-08-05 16:59:05</td>\n",
              "      <td id=\"T_72204_row8_col18\" class=\"data row8 col18\" >2017-08-08 04:25:34</td>\n",
              "      <td id=\"T_72204_row8_col19\" class=\"data row8 col19\" >2017-08-10 16:40:11</td>\n",
              "      <td id=\"T_72204_row8_col20\" class=\"data row8 col20\" >2017-08-14 18:13:03</td>\n",
              "      <td id=\"T_72204_row8_col21\" class=\"data row8 col21\" >2017-09-06 00:00:00</td>\n",
              "    </tr>\n",
              "    <tr>\n",
              "      <th id=\"T_72204_level0_row9\" class=\"row_heading level0 row9\" >9</th>\n",
              "      <td id=\"T_72204_row9_col0\" class=\"data row9 col0\" >df2d910b8b5e5f461f67043489f9569d</td>\n",
              "      <td id=\"T_72204_row9_col1\" class=\"data row9 col1\" >1</td>\n",
              "      <td id=\"T_72204_row9_col2\" class=\"data row9 col2\" >4244733e06e7ecb4970a6e2683c13e61</td>\n",
              "      <td id=\"T_72204_row9_col3\" class=\"data row9 col3\" >48436dade18ac8b2bce089ec2a041202</td>\n",
              "      <td id=\"T_72204_row9_col4\" class=\"data row9 col4\" >2017-06-09 14:31:21</td>\n",
              "      <td id=\"T_72204_row9_col5\" class=\"data row9 col5\" >55.900000</td>\n",
              "      <td id=\"T_72204_row9_col6\" class=\"data row9 col6\" >35.710000</td>\n",
              "      <td id=\"T_72204_row9_col7\" class=\"data row9 col7\" >cool_stuff</td>\n",
              "      <td id=\"T_72204_row9_col8\" class=\"data row9 col8\" >58.000000</td>\n",
              "      <td id=\"T_72204_row9_col9\" class=\"data row9 col9\" >598.000000</td>\n",
              "      <td id=\"T_72204_row9_col10\" class=\"data row9 col10\" >4.000000</td>\n",
              "      <td id=\"T_72204_row9_col11\" class=\"data row9 col11\" >650.000000</td>\n",
              "      <td id=\"T_72204_row9_col12\" class=\"data row9 col12\" >28.000000</td>\n",
              "      <td id=\"T_72204_row9_col13\" class=\"data row9 col13\" >9.000000</td>\n",
              "      <td id=\"T_72204_row9_col14\" class=\"data row9 col14\" >14.000000</td>\n",
              "      <td id=\"T_72204_row9_col15\" class=\"data row9 col15\" >2e76c1f2a920153d79cc98b634c50942</td>\n",
              "      <td id=\"T_72204_row9_col16\" class=\"data row9 col16\" >delivered</td>\n",
              "      <td id=\"T_72204_row9_col17\" class=\"data row9 col17\" >2017-06-05 12:22:19</td>\n",
              "      <td id=\"T_72204_row9_col18\" class=\"data row9 col18\" >2017-06-05 14:31:21</td>\n",
              "      <td id=\"T_72204_row9_col19\" class=\"data row9 col19\" >2017-06-07 13:09:07</td>\n",
              "      <td id=\"T_72204_row9_col20\" class=\"data row9 col20\" >2017-06-26 13:52:03</td>\n",
              "      <td id=\"T_72204_row9_col21\" class=\"data row9 col21\" >2017-07-06 00:00:00</td>\n",
              "    </tr>\n",
              "  </tbody>\n",
              "</table>\n"
            ],
            "text/plain": [
              "<pandas.io.formats.style.Styler at 0x116c0990260>"
            ]
          },
          "execution_count": 38,
          "metadata": {},
          "output_type": "execute_result"
        }
      ],
      "source": [
        "merged_data.head(10).style.background_gradient(cmap='mako')"
      ]
    },
    {
      "cell_type": "markdown",
      "metadata": {},
      "source": [
        "#### Overall Sales Trend Overtime"
      ]
    },
    {
      "cell_type": "code",
      "execution_count": 39,
      "metadata": {},
      "outputs": [
        {
          "data": {
            "image/png": "[encoded data removed]",
            "text/plain": [
              "<Figure size 1200x600 with 1 Axes>"
            ]
          },
          "metadata": {},
          "output_type": "display_data"
        }
      ],
      "source": [
        "merged_data['order_purchase_timestamp'] = pd.to_datetime(merged_data['order_purchase_timestamp'])\n",
        "sales_trend = merged_data.groupby(merged_data['order_purchase_timestamp'].dt.to_period('M')).size()\n",
        "plt.figure(figsize=(12, 6))\n",
        "sales_trend.plot(kind='line')\n",
        "plt.title('Overall Sales Trend Over Time')\n",
        "plt.xlabel('Month')\n",
        "plt.ylabel('Number of Orders')\n",
        "plt.xticks(rotation=45)\n",
        "plt.show()"
      ]
    },
    {
      "cell_type": "markdown",
      "metadata": {},
      "source": [
        "#### Distribution of Order Status"
      ]
    },
    {
      "cell_type": "code",
      "execution_count": 40,
      "metadata": {},
      "outputs": [
        {
          "data": {
            "image/png": "[encoded data removed]",
            "text/plain": [
              "<Figure size 800x500 with 1 Axes>"
            ]
          },
          "metadata": {},
          "output_type": "display_data"
        }
      ],
      "source": [
        "plt.figure(figsize=(8, 5))\n",
        "sns.countplot(data=orders, x='order_status', order=orders['order_status'].value_counts().index)\n",
        "plt.title('Distribution of Order Status')\n",
        "plt.xlabel('Order Status')\n",
        "plt.ylabel('Count')\n",
        "plt.xticks(rotation=45)\n",
        "plt.show()"
      ]
    },
    {
      "cell_type": "markdown",
      "metadata": {},
      "source": [
        "#### Product Category Analysis"
      ]
    },
    {
      "cell_type": "code",
      "execution_count": 41,
      "metadata": {},
      "outputs": [
        {
          "name": "stderr",
          "output_type": "stream",
          "text": [
            "C:\\Users\\lenovo\\AppData\\Local\\Temp\\ipykernel_24568\\3636066118.py:3: FutureWarning: \n",
            "\n",
            "Passing `palette` without assigning `hue` is deprecated and will be removed in v0.14.0. Assign the `x` variable to `hue` and set `legend=False` for the same effect.\n",
            "\n",
            "  sns.barplot(x=product_category_counts.index, y=product_category_counts.values, palette='mako')\n"
          ]
        },
        {
          "data": {
            "image/png": "[encoded data removed]",
            "text/plain": [
              "<Figure size 1200x600 with 1 Axes>"
            ]
          },
          "metadata": {},
          "output_type": "display_data"
        }
      ],
      "source": [
        "product_category_counts = merged_data['product_category_name'].value_counts().nlargest(10)\n",
        "plt.figure(figsize=(12, 6))\n",
        "sns.barplot(x=product_category_counts.index, y=product_category_counts.values, palette='mako')\n",
        "plt.title('Top 10 Product Categories by Sales')\n",
        "plt.xlabel('Product Category')\n",
        "plt.ylabel('Number of Sales')\n",
        "plt.xticks(rotation=45)\n",
        "plt.show()\n"
      ]
    },
    {
      "cell_type": "markdown",
      "metadata": {},
      "source": [
        "#### Average Review Score Distribution"
      ]
    },
    {
      "cell_type": "code",
      "execution_count": 42,
      "metadata": {},
      "outputs": [
        {
          "data": {
            "image/png": "[encoded data removed]",
            "text/plain": [
              "<Figure size 1000x500 with 1 Axes>"
            ]
          },
          "metadata": {},
          "output_type": "display_data"
        }
      ],
      "source": [
        "plt.figure(figsize=(10, 5))\n",
        "sns.histplot(customer_reviews['review_score'], bins=10, kde=True)\n",
        "plt.title('Distribution of Review Scores')\n",
        "plt.xlabel('Review Score')\n",
        "plt.ylabel('Frequency')\n",
        "plt.show()"
      ]
    },
    {
      "cell_type": "markdown",
      "metadata": {},
      "source": [
        "#### Average Product Price Analysis"
      ]
    },
    {
      "cell_type": "code",
      "execution_count": 43,
      "metadata": {},
      "outputs": [
        {
          "data": {
            "image/png": "[encoded data removed]",
            "text/plain": [
              "<Figure size 1000x500 with 1 Axes>"
            ]
          },
          "metadata": {},
          "output_type": "display_data"
        }
      ],
      "source": [
        "average_price = products['product_weight_g']  # Example; replace with actual price column if exists\n",
        "plt.figure(figsize=(10, 5))\n",
        "sns.histplot(average_price, bins=30, kde=True)\n",
        "plt.title('Distribution of Product Weights')\n",
        "plt.xlabel('Weight (g)')\n",
        "plt.ylabel('Frequency')\n",
        "plt.show()\n"
      ]
    },
    {
      "cell_type": "markdown",
      "metadata": {},
      "source": [
        "**Insight:**\n",
        "Secara overall sebenernya penjualan barang cukup baik, hal ini ditandai dengan review dengan skala 5 poin, <b style= \"color:lightgreen\">dengan ulasan pelanggan dominan berada di 5/5.</b>\n",
        "<tr>\n",
        "namun hal ini tetap perlu diperhatikan, sebab yang memberikan <b style= \"color:red\">ulasan 1/5 lebih banyak dari 3/5</b> walaupun kurang dari 4/5.\n",
        "<tr>\n",
        "penjualan keseluruhan cukup baik dan masih dikatakan meningkat dibanding tahun sebelumnya walaupun sedikit mengalami penurunan apabila dibandingkan dengan bulan oktober di tahun 2017."
      ]
    },
    {
      "cell_type": "markdown",
      "metadata": {
        "id": "HZxOiQ6n8DC2"
      },
      "source": [
        "### 1. What product is need to be prioritize to getting an advertisement and improvements?"
      ]
    },
    {
      "cell_type": "code",
      "execution_count": 44,
      "metadata": {},
      "outputs": [],
      "source": [
        "sales_data = merged_data.groupby('product_category_name')['order_id'].count().reset_index(name='total_sales')\n",
        "top_products = sales_data.sort_values(by='total_sales', ascending=False).head(10)"
      ]
    },
    {
      "cell_type": "code",
      "execution_count": 45,
      "metadata": {},
      "outputs": [
        {
          "name": "stderr",
          "output_type": "stream",
          "text": [
            "C:\\Users\\lenovo\\AppData\\Local\\Temp\\ipykernel_24568\\689173793.py:8: FutureWarning: \n",
            "\n",
            "Passing `palette` without assigning `hue` is deprecated and will be removed in v0.14.0. Assign the `x` variable to `hue` and set `legend=False` for the same effect.\n",
            "\n",
            "  sns.barplot(data=top_products, x='product_category_name', y='total_sales', palette=colors)\n"
          ]
        },
        {
          "data": {
            "image/png": "[encoded data removed]",
            "text/plain": [
              "<Figure size 1200x600 with 1 Axes>"
            ]
          },
          "metadata": {},
          "output_type": "display_data"
        }
      ],
      "source": [
        "# Find the maximum value of the 'total_sales' column\n",
        "max_value = top_products['total_sales'].max()\n",
        "\n",
        "# Create a list of colors, with 'green' for the maximum value and 'blue' for others\n",
        "colors = ['blue' if x != max_value else 'green' for x in top_products['total_sales']]\n",
        "\n",
        "plt.figure(figsize=(12, 6))\n",
        "sns.barplot(data=top_products, x='product_category_name', y='total_sales', palette=colors)\n",
        "plt.title('Top 10 Product Categories by Sales')\n",
        "plt.xticks(rotation=45)\n",
        "plt.xlabel('Product Category')\n",
        "plt.ylabel('Total Sales')\n",
        "plt.show()"
      ]
    },
    {
      "cell_type": "markdown",
      "metadata": {},
      "source": [
        "**Insight:**\n",
        "Kategori \"cama_mesa_banho\" masih memimpin penjualan dengan <b style= \"color:lightgreen\">total sales lebih dari 10.000 penjualan</b>"
      ]
    },
    {
      "cell_type": "markdown",
      "metadata": {
        "id": "DgHI7CiU8DC2"
      },
      "source": [
        "### 2. What is the most under sell product, and how to boost the sell?"
      ]
    },
    {
      "cell_type": "code",
      "execution_count": 46,
      "metadata": {
        "id": "Go0lCsvO8DC2"
      },
      "outputs": [
        {
          "name": "stdout",
          "output_type": "stream",
          "text": [
            "Undersold Products:\n",
            "             product_category_name  total_sales\n",
            "37  fashion_roupa_infanto_juvenil            8\n",
            "61                       pc_gamer            9\n",
            "68             seguros_e_servicos            2\n"
          ]
        }
      ],
      "source": [
        "undersold_products = sales_data[sales_data['total_sales'] < 10]  # 10 for threshold\n",
        "print(\"Undersold Products:\\n\", undersold_products)"
      ]
    },
    {
      "cell_type": "code",
      "execution_count": 47,
      "metadata": {},
      "outputs": [
        {
          "data": {
            "image/png": "[encoded data removed]",
            "text/plain": [
              "<Figure size 1200x600 with 1 Axes>"
            ]
          },
          "metadata": {},
          "output_type": "display_data"
        }
      ],
      "source": [
        "plt.figure(figsize=(12, 6))\n",
        "sns.barplot(data=undersold_products, x='product_category_name', y='total_sales')\n",
        "plt.title('Undersold Products (Total Sales < 10)')\n",
        "plt.xticks(rotation=45)\n",
        "plt.xlabel('Product Category')\n",
        "plt.ylabel('Total Sales')\n",
        "plt.show()"
      ]
    },
    {
      "cell_type": "code",
      "execution_count": 48,
      "metadata": {},
      "outputs": [
        {
          "name": "stderr",
          "output_type": "stream",
          "text": [
            "C:\\Users\\lenovo\\AppData\\Local\\Temp\\ipykernel_24568\\986478499.py:15: FutureWarning: \n",
            "\n",
            "Passing `palette` without assigning `hue` is deprecated and will be removed in v0.14.0. Assign the `x` variable to `hue` and set `legend=False` for the same effect.\n",
            "\n",
            "  sns.barplot(data=undersold_with_reviews, x='product_category_name', y='review_score', palette='mako')\n"
          ]
        },
        {
          "data": {
            "image/png": "[encoded data removed]",
            "text/plain": [
              "<Figure size 1200x600 with 1 Axes>"
            ]
          },
          "metadata": {},
          "output_type": "display_data"
        }
      ],
      "source": [
        "# Merge customer_reviews with order_items using 'order_id' to get 'product_id'\n",
        "merged_reviews = pd.merge(customer_reviews, order_items, on='order_id')\n",
        "\n",
        "# Merge with products to get 'product_category_name' in reviews data\n",
        "merged_reviews = pd.merge(merged_reviews, products[['product_id', 'product_category_name']], on='product_id', how='left')\n",
        "\n",
        "# Group by 'product_category_name' and calculate the mean review score\n",
        "review_data = merged_reviews.groupby('product_category_name')['review_score'].mean().reset_index()\n",
        "\n",
        "# Merge review data with undersold products using 'product_category_name'\n",
        "undersold_with_reviews = pd.merge(undersold_products, review_data, on='product_category_name', how='left')\n",
        "\n",
        "# Visualize undersold products with their average review scores\n",
        "plt.figure(figsize=(12, 6))\n",
        "sns.barplot(data=undersold_with_reviews, x='product_category_name', y='review_score', palette='mako')\n",
        "plt.title('Undersold Products with Average Review Scores')\n",
        "plt.xticks(rotation=45)\n",
        "plt.xlabel('Product Category')\n",
        "plt.ylabel('Average Review Score')\n",
        "plt.show()\n"
      ]
    },
    {
      "cell_type": "markdown",
      "metadata": {},
      "source": [
        "**Insight:**\n",
        "Kategori bertema sport sulit untuk bersaing dengan produk pengguna general seperti produk Rumah tangga, ataupun fashion dan kecantikan. <b style= \"color:red\">total sales rendah dibanding produk rumah tangga dan kecantikan atau fashion</b>.\n",
        "<tr>\n",
        "untuk Boost penjualan maka <b style= \"color:lightblue\">pengiklanan diperlukan dengan improvisasi, serta market research yang benar-benar terfokus untuk pengguna sport</b>"
      ]
    },
    {
      "cell_type": "markdown",
      "metadata": {},
      "source": [
        "### 3. If we want to launch a new product, what product criteria it needs to have so it can be a best seller in the market or atleast it can support the undersell product to have better sell?"
      ]
    },
    {
      "cell_type": "code",
      "execution_count": 49,
      "metadata": {},
      "outputs": [],
      "source": [
        "# Analyze bestsellers and their characteristics\n",
        "bestselling_products = sales_data[sales_data['total_sales'] >= 50]  # Example threshold for bestsellers\n",
        "bestselling_product_details = pd.merge(bestselling_products, products, on='product_category_name')"
      ]
    },
    {
      "cell_type": "code",
      "execution_count": 50,
      "metadata": {},
      "outputs": [
        {
          "name": "stdout",
          "output_type": "stream",
          "text": [
            "Characteristics of Bestselling Products:\n",
            "         total_sales  product_name_lenght  product_description_lenght  \\\n",
            "count  32761.000000         32151.000000                32151.000000   \n",
            "mean    5591.607857            48.486144                  772.272464   \n",
            "std     3424.588383            10.243720                  635.520374   \n",
            "min       60.000000             5.000000                    4.000000   \n",
            "25%     2767.000000            42.000000                  340.000000   \n",
            "50%     4545.000000            51.000000                  595.000000   \n",
            "75%     8641.000000            57.000000                  974.000000   \n",
            "max    11115.000000            76.000000                 3992.000000   \n",
            "\n",
            "       product_photos_qty  product_weight_g  product_length_cm  \\\n",
            "count        32151.000000      32759.000000       32759.000000   \n",
            "mean             2.189139       2277.607772          30.818889   \n",
            "std              1.737921       4279.920754          16.900029   \n",
            "min              1.000000          0.000000           7.000000   \n",
            "25%              1.000000        300.000000          18.000000   \n",
            "50%              1.000000        700.000000          25.000000   \n",
            "75%              3.000000       1900.000000          38.000000   \n",
            "max             20.000000      40425.000000         105.000000   \n",
            "\n",
            "       product_height_cm  product_width_cm  \n",
            "count       32759.000000      32759.000000  \n",
            "mean           16.948106         23.205989  \n",
            "std            13.649751         12.078985  \n",
            "min             2.000000          6.000000  \n",
            "25%             8.000000         15.000000  \n",
            "50%            13.000000         20.000000  \n",
            "75%            21.000000         30.000000  \n",
            "max           105.000000        118.000000  \n"
          ]
        }
      ],
      "source": [
        "# Analyze characteristics of bestselling products\n",
        "characteristics = bestselling_product_details.describe()\n",
        "print(\"Characteristics of Bestselling Products:\\n\", characteristics)"
      ]
    },
    {
      "cell_type": "code",
      "execution_count": 51,
      "metadata": {},
      "outputs": [
        {
          "name": "stdout",
          "output_type": "stream",
          "text": [
            "Characteristics of Bestselling Products:\n",
            "         total_sales  product_name_lenght  product_description_lenght  \\\n",
            "count  32761.000000         32151.000000                32151.000000   \n",
            "mean    5591.607857            48.486144                  772.272464   \n",
            "std     3424.588383            10.243720                  635.520374   \n",
            "min       60.000000             5.000000                    4.000000   \n",
            "25%     2767.000000            42.000000                  340.000000   \n",
            "50%     4545.000000            51.000000                  595.000000   \n",
            "75%     8641.000000            57.000000                  974.000000   \n",
            "max    11115.000000            76.000000                 3992.000000   \n",
            "\n",
            "       product_photos_qty  product_weight_g  product_length_cm  \\\n",
            "count        32151.000000      32759.000000       32759.000000   \n",
            "mean             2.189139       2277.607772          30.818889   \n",
            "std              1.737921       4279.920754          16.900029   \n",
            "min              1.000000          0.000000           7.000000   \n",
            "25%              1.000000        300.000000          18.000000   \n",
            "50%              1.000000        700.000000          25.000000   \n",
            "75%              3.000000       1900.000000          38.000000   \n",
            "max             20.000000      40425.000000         105.000000   \n",
            "\n",
            "       product_height_cm  product_width_cm  \n",
            "count       32759.000000      32759.000000  \n",
            "mean           16.948106         23.205989  \n",
            "std            13.649751         12.078985  \n",
            "min             2.000000          6.000000  \n",
            "25%             8.000000         15.000000  \n",
            "50%            13.000000         20.000000  \n",
            "75%            21.000000         30.000000  \n",
            "max           105.000000        118.000000  \n"
          ]
        }
      ],
      "source": [
        "# Analyze characteristics of bestselling products\n",
        "characteristics = bestselling_product_details.describe()\n",
        "print(\"Characteristics of Bestselling Products:\\n\", characteristics)"
      ]
    },
    {
      "cell_type": "code",
      "execution_count": 52,
      "metadata": {},
      "outputs": [
        {
          "data": {
            "image/png": "[encoded data removed]",
            "text/plain": [
              "<Figure size 1000x500 with 1 Axes>"
            ]
          },
          "metadata": {},
          "output_type": "display_data"
        }
      ],
      "source": [
        "# Visualize some characteristics\n",
        "plt.figure(figsize=(10, 5))\n",
        "sns.histplot(bestselling_product_details['product_weight_g'], bins=30, kde=True)\n",
        "plt.title('Distribution of Product Weight for Bestselling Products')\n",
        "plt.xlabel('Weight (g)')\n",
        "plt.ylabel('Frequency')\n",
        "plt.show()"
      ]
    },
    {
      "cell_type": "markdown",
      "metadata": {
        "id": "_0-36BDLklRg"
      },
      "source": [
        "**Insight:**\n",
        "Barang yang laku, dominan memiliki bobot ringan dengan dimensi yang tidak terlalu besar."
      ]
    },
    {
      "cell_type": "markdown",
      "metadata": {},
      "source": [
        "## RFM Analysis"
      ]
    },
    {
      "cell_type": "code",
      "execution_count": 56,
      "metadata": {},
      "outputs": [
        {
          "name": "stdout",
          "output_type": "stream",
          "text": [
            "                                  Recency  Frequency  Monetary\n",
            "customer_id                                                   \n",
            "00012a2ce6f8dcda20d059ce98491703      293          1     89.80\n",
            "000161a058600d5901f007fab4c27140      414          1     54.90\n",
            "0001fd6190edaaf884bcaf3d49edf079      552          1    179.99\n",
            "0002414f95344307404f0ace7a26f1d5      383          1    149.90\n",
            "000379cdec625522490c315e70c7a9fb      154          1     93.00\n"
          ]
        }
      ],
      "source": [
        "# Merge orders and order_items to get the details of each order\n",
        "merged_data = orders.merge(order_items, on='order_id')\n",
        "\n",
        "# Convert the order creation date to datetime format\n",
        "merged_data['order_purchase_timestamp'] = pd.to_datetime(merged_data['order_purchase_timestamp'])\n",
        "\n",
        "# Calculate Recency\n",
        "snapshot_date = merged_data['order_purchase_timestamp'].max() + pd.DateOffset(days=1)  # Date after last purchase\n",
        "merged_data['Recency'] = (snapshot_date - merged_data['order_purchase_timestamp']).dt.days\n",
        "\n",
        "# Calculate Frequency and Monetary\n",
        "rfm_df = merged_data.groupby('customer_id').agg({\n",
        "    'Recency': 'min',  # Last purchase recency\n",
        "    'order_id': 'nunique',  # Unique order count\n",
        "    'price': 'sum'  # Total expenditure\n",
        "}).rename(columns={'order_id': 'Frequency', 'price': 'Monetary'})\n",
        "\n",
        "# Display RFM DataFrame\n",
        "print(rfm_df.head())"
      ]
    },
    {
      "cell_type": "code",
      "execution_count": 66,
      "metadata": {},
      "outputs": [
        {
          "data": {
            "image/png": "[encoded data removed]",
            "text/plain": [
              "<Figure size 800x800 with 1 Axes>"
            ]
          },
          "metadata": {},
          "output_type": "display_data"
        }
      ],
      "source": [
        "def rfm_segment(row):\n",
        "    if row['Recency'] < 100 and row['Frequency'] > 5 and row['Monetary'] > 200:\n",
        "        return 'High-Value Customers'\n",
        "    elif row['Recency'] < 100 and row['Frequency'] <= 5:\n",
        "        return 'Potential Loyal Customers'\n",
        "    elif row['Recency'] > 100 and row['Frequency'] == 1:\n",
        "        return 'New Customers'\n",
        "    else:\n",
        "        return 'At-Risk Customers'\n",
        "\n",
        "# Apply segmentation\n",
        "rfm_df['Segment'] = rfm_df.apply(rfm_segment, axis=1)\n",
        "\n",
        "# Count the occurrences of each segment\n",
        "segment_counts = rfm_df['Segment'].value_counts()\n",
        "\n",
        "# Create a pie chart\n",
        "plt.figure(figsize=(8, 8))\n",
        "plt.pie(segment_counts, labels=segment_counts.index, autopct='%1.1f%%', startangle=90, colors=sns.color_palette('pastel'))\n",
        "plt.title('RFM Segmentation of Customers')\n",
        "plt.axis('equal')  # Equal aspect ratio ensures that pie chart is circular\n",
        "plt.tight_layout()\n",
        "plt.show()"
      ]
    },
    {
      "cell_type": "markdown",
      "metadata": {},
      "source": [
        "**Insight:**\n",
        "Potential Royal Customer sangat tinggi yang berarti memiliki pertanda sangat baik, selain itu sangat banyak pembeli baru yang mengindikasikan kesuburan"
      ]
    },
    {
      "cell_type": "markdown",
      "metadata": {
        "id": "_WeHlCeX8DC2"
      },
      "source": [
        "## Conclusion"
      ]
    },
    {
      "cell_type": "markdown",
      "metadata": {
        "id": "ZTcyR48Y8DC2"
      },
      "source": [
        "<ol>\n",
        "    <li>What product is need to be prioritize to getting an advertisement and improvements?</li>\n",
        "    <li>What is the most under sell product, and how to boost the sell?</li>\n",
        "    <li>If we want to launc a new product, what product criteria it needs to have so it can be a best seller in the market or atleast it can support the undersell product to have better sell?</li>\n",
        "</ol>\n",
        "\n",
        "<b>INSIGHT:</b>\n",
        "<ol>\n",
        "    <li><b>Prioritaskan improvement dan advertising pada produk bidang rumah tangga.</b> selain memiliki pasar generalis di mana semua kalangan merupakan customer potensial, produk rumah tangga juga merupakan kategori produk best seller </li>\n",
        "    <li><b>Fokus pada market research dan lakukan pengiklanan sesuai market</b>, tidak disarankan untuk mengambil pasar general karena akan sulit bersaing dikarenakan produk memiliki segmentasi market yang terkhusus atau kecil</li>\n",
        "    <li>\n",
        "    <b>Nama Deskriptif dan Detail:</b> Produk dengan nama yang lebih deskriptif dan deskripsi panjang serta jelas cenderung lebih sukses. Produk baru sebaiknya memiliki nama yang menarik perhatian dan deskripsi lengkap yang jelas untuk menarik minat pelanggan.\n",
        "\n",
        "<b>Visual Berkualitas Tinggi:</b> Produk dengan lebih banyak foto cenderung lebih laku. Pastikan produk baru memiliki gambar berkualitas tinggi yang menunjukkan produk dari berbagai sudut dan dalam berbagai konteks.\n",
        "\n",
        "<b>Dimensi dan Berat Seimbang:</b> Meskipun produk terlaris memiliki berbagai ukuran dan berat, produk dengan berat dan dimensi yang praktis serta mudah dikelola lebih mungkin sukses, terutama di lingkungan e-commerce di mana pengiriman dan penyimpanan dapat mempengaruhi keputusan pelanggan.\n",
        "\n",
        "<b>Meningkatkan Penjualan Produk yang Kurang Laku:</b> Fokus pada produk yang kurang laku dalam kategori di mana terdapat produk terlaris dengan atribut serupa. Menawarkan bundel produk atau kampanye pemasaran yang menampilkan produk kurang laku bersama produk terlaris dapat membantu meningkatkan penjualan.\n",
        "    </li>\n",
        "</ol>\n",
        "\n"
      ]
    }
  ],
  "metadata": {
    "colab": {
      "provenance": []
    },
    "kernelspec": {
      "display_name": "Python 3",
      "language": "python",
      "name": "python3"
    },
    "language_info": {
      "codemirror_mode": {
        "name": "ipython",
        "version": 3
      },
      "file_extension": ".py",
      "mimetype": "text/x-python",
      "name": "python",
      "nbconvert_exporter": "python",
      "pygments_lexer": "ipython3",
      "version": "3.12.0"
    },
    "orig_nbformat": 4,
    "vscode": {
      "interpreter": {
        "hash": "972b3bf27e332e87b5379f2791f6ef9dfc79c71018c370b0d7423235e20fe4d7"
      }
    }
  },
  "nbformat": 4,
  "nbformat_minor": 0
}
